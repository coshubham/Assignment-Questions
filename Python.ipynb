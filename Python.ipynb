{
  "nbformat": 4,
  "nbformat_minor": 0,
  "metadata": {
    "colab": {
      "provenance": []
    },
    "kernelspec": {
      "name": "python3",
      "display_name": "Python 3"
    },
    "language_info": {
      "name": "python"
    }
  },
  "cells": [
    {
      "cell_type": "markdown",
      "source": [
        "Q1. Explain the key features of Python that make it a popular choice for programming\n",
        "\n",
        "Ans:\n",
        " 1. Easy to Learn and Use\n",
        "Python has a simple, readable syntax similar to English. This makes it beginner-friendly and allows developers to write clean and concise code.\n",
        "\n",
        "2. Interpreted Language\n",
        "Python is executed line-by-line, which makes debugging easier and allows cross-platform compatibility without needing compilation.\n",
        "\n",
        "3. Dynamically Typed\n",
        "You don't need to declare variable types. Python automatically detects the type during execution.\n",
        "```\n",
        "x = 10      # integer\n",
        "x = \"text\"  # now a string\n",
        "```\n",
        "4. Extensive Standard Library\n",
        "Python includes built-in modules for file I/O, regular expressions, math operations, networking, and more — reducing the need for third-party tools.\n",
        "\n",
        "5. Object-Oriented and Functional Programming Support\n",
        "Python supports multiple programming paradigms:\n",
        "\n",
        "* Object-Oriented: Using classes and objects\n",
        "\n",
        "* Functional: Using functions, lambda, map, etc.\n",
        "\n",
        "6. Large Community and Rich Ecosystem\n",
        "Python has a massive developer community and vast libraries (e.g., NumPy, Pandas, Django), making it suitable for web development, data science, automation, and AI."
      ],
      "metadata": {
        "id": "Q7yOtvd-Qeo0"
      }
    },
    {
      "cell_type": "markdown",
      "source": [
        "Q2. Describe the role of predefined keywords in Python and provide examples of how they are used in a program"
      ],
      "metadata": {
        "id": "rp2C5rWXUYBL"
      }
    },
    {
      "cell_type": "code",
      "source": [
        "# Definition: Keywords are reserved words with special meaning, like if, for, def, etc.\n",
        "\n",
        "# using 'if' and 'else'\n",
        "x = 10\n",
        "if x > 5:\n",
        "    print(\"Greater than 5\")\n",
        "else:\n",
        "    print(\"5 or less\")\n",
        "\n",
        "# using 'def' to define a function\n",
        "def greet():\n",
        "    print(\"Hello\")\n",
        "greet()\n"
      ],
      "metadata": {
        "colab": {
          "base_uri": "https://localhost:8080/"
        },
        "id": "LjEHR9xLS7ww",
        "outputId": "bc4460b5-c80b-4f9b-db18-db64a068754a"
      },
      "execution_count": 1,
      "outputs": [
        {
          "output_type": "stream",
          "name": "stdout",
          "text": [
            "Greater than 5\n",
            "Hello\n"
          ]
        }
      ]
    },
    {
      "cell_type": "markdown",
      "source": [
        "Q3. Compare and contrast mutable and immutable objects in Python with examples.\n",
        "\n",
        "Ans:\n",
        "1. Mutable objects in Python can be changed after they are created. When you modify a mutable object, such as adding an element to a list or changing a value in a dictionary, the changes are made directly to the original object. This means the object’s memory reference remains the same even after modification. Common examples of mutable objects include lists, dictionaries, and sets. For instance, using my_list.append(4) will update the existing list without creating a new one.\n",
        "\n",
        "2. Immutable objects, on the other hand, cannot be changed once they are created. If you try to modify them, Python creates a new object in memory instead of altering the original. This ensures that the original data remains unchanged. Examples of immutable objects include integers, strings, floats, tuples, and booleans. For example, when you perform \"Hello\" + \" World\", a new string is created rather than modifying the original \"Hello\"."
      ],
      "metadata": {
        "id": "dfxL94Z8Ye9_"
      }
    },
    {
      "cell_type": "code",
      "source": [
        "# Mutable\n",
        "lst = [1, 2, 3]\n",
        "lst.append(4)  # list is modified\n",
        "print(\"Mutable list is modified is \",lst)\n",
        "\n",
        "# Immutable\n",
        "s = \"hello\"\n",
        "s = s + \" world\"  # new string is created\n",
        "print(\"Immutable new string is created is \",s)"
      ],
      "metadata": {
        "colab": {
          "base_uri": "https://localhost:8080/"
        },
        "id": "GwQTTg0yZvSA",
        "outputId": "322a69f7-47fb-439c-dda6-d184504b6465"
      },
      "execution_count": 12,
      "outputs": [
        {
          "output_type": "stream",
          "name": "stdout",
          "text": [
            "Mutable list is modified is  [1, 2, 3, 4]\n",
            "Immutable new string is created is  hello world\n"
          ]
        }
      ]
    },
    {
      "cell_type": "markdown",
      "source": [
        "Q.4  Discuss the different types of operators in Python and provide examples of how they are used.\n",
        "\n",
        "Ans:  **Different Types of Operators in Python with Examples**\n",
        "\n",
        "Python provides various types of operators that help perform operations on variables and values.\n",
        "\n",
        "**1. Arithmetic Operators**\n",
        "These are used to perform mathematical operations. For example, `+` is used for addition (`10 + 5` gives `15`), `-` for subtraction (`10 - 3` gives `7`), `*` for multiplication (`4 * 2` gives `8`), and `/` for division (`10 / 2` gives `5.0`). Other operators include `%` for modulus (`10 % 3` gives `1`), `**` for exponentiation (`2 ** 3` gives `8`), and `//` for floor division (`10 // 3` gives `3`).\n",
        "\n",
        "**2. Comparison (Relational) Operators**\n",
        "These operators compare values and return `True` or `False`. For example, `==` checks if two values are equal (`5 == 5` is `True`), `!=` checks if they are not equal, `>` checks if one is greater than another, `<` for less than, and `>=` or `<=` for greater than or equal to / less than or equal to.\n",
        "\n",
        "**3. Logical Operators**\n",
        "Logical operators are used to combine multiple conditions. The `and` operator returns `True` only if both conditions are true (e.g., `5 > 2 and 3 < 4`), `or` returns `True` if at least one condition is true, and `not` reverses the result (`not True` becomes `False`).\n",
        "\n",
        "**4. Assignment Operators**\n",
        "These operators are used to assign values to variables. The basic one is `=`, as in `x = 10`. Compound assignment operators like `+=` (e.g., `x += 5`) increase the value of `x` by 5, while `-=` subtracts, and so on with `*=`, `/=`, etc.\n",
        "\n",
        "**5. Bitwise Operators**\n",
        "Bitwise operators operate on binary representations of integers. For example, `&` is bitwise AND (`5 & 3` gives `1`), `|` is OR, `^` is XOR, `~` is NOT, `<<` shifts bits to the left, and `>>` shifts them to the right.\n",
        "\n",
        "**6. Membership Operators**\n",
        "These check if a value exists in a sequence like a list, string, or tuple. For example, `2 in [1, 2, 3]` returns `True`, while `4 not in [1, 2, 3]` returns `True`.\n",
        "\n",
        "**7. Identity Operators**\n",
        "Identity operators check whether two variables refer to the same object in memory. `is` returns `True` if both variables point to the same object, and `is not` returns `True` if they do not. For example, `a is b` is `True` if both `a` and `b` refer to the same object.\n"
      ],
      "metadata": {
        "id": "tDJLE_Gla375"
      }
    },
    {
      "cell_type": "code",
      "source": [
        "# Let's see Example of all Operators\n",
        "\n",
        "# 1. Arithmetic Operators\n",
        "a = 10\n",
        "b = 3\n",
        "print(\"Arithmetic Operators:\")\n",
        "print(\"Addition:\", a + b)\n",
        "print(\"Subtraction:\", a - b)\n",
        "print(\"Multiplication:\", a * b)\n",
        "print(\"Division:\", a / b)\n",
        "print(\"Floor Division:\", a // b)\n",
        "print(\"Modulus:\", a % b)\n",
        "print(\"Exponent:\", a ** b)\n",
        "\n",
        "print(\"\\nComparison Operators:\")\n",
        "# 2. Comparison Operators\n",
        "print(\"Equal:\", a == b)\n",
        "print(\"Not Equal:\", a != b)\n",
        "print(\"Greater than:\", a > b)\n",
        "print(\"Less than:\", a < b)\n",
        "print(\"Greater or equal:\", a >= b)\n",
        "print(\"Less or equal:\", a <= b)\n",
        "\n",
        "print(\"\\nLogical Operators:\")\n",
        "# 3. Logical Operators\n",
        "x = True\n",
        "y = False\n",
        "print(\"AND:\", x and y)\n",
        "print(\"OR:\", x or y)\n",
        "print(\"NOT x:\", not x)\n",
        "\n",
        "print(\"\\nAssignment Operators:\")\n",
        "# 4. Assignment Operators\n",
        "c = 5\n",
        "print(\"Initial c:\", c)\n",
        "c += 2\n",
        "print(\"c += 2:\", c)\n",
        "c *= 3\n",
        "print(\"c *= 3:\", c)\n",
        "c -= 4\n",
        "print(\"c -= 4:\", c)\n",
        "c /= 2\n",
        "print(\"c /= 2:\", c)\n",
        "\n",
        "print(\"\\nBitwise Operators:\")\n",
        "# 5. Bitwise Operators\n",
        "m = 5  # binary: 0101\n",
        "n = 3  # binary: 0011\n",
        "print(\"AND:\", m & n)    # 0101 & 0011 = 0001 = 1\n",
        "print(\"OR:\", m | n)     # 0101 | 0011 = 0111 = 7\n",
        "print(\"XOR:\", m ^ n)    # 0101 ^ 0011 = 0110 = 6\n",
        "print(\"NOT m:\", ~m)     # ~0101 = -6\n",
        "print(\"Left Shift m << 1:\", m << 1)  # 1010 = 10\n",
        "print(\"Right Shift m >> 1:\", m >> 1) # 0010 = 2\n",
        "\n",
        "print(\"\\nMembership Operators:\")\n",
        "# 6. Membership Operators\n",
        "my_list = [1, 2, 3, 4]\n",
        "print(\"2 in list:\", 2 in my_list)\n",
        "print(\"5 not in list:\", 5 not in my_list)\n",
        "\n",
        "print(\"\\nIdentity Operators:\")\n",
        "# 7. Identity Operators\n",
        "a = [1, 2]\n",
        "b = a\n",
        "c = [1, 2]\n",
        "print(\"a is b:\", a is b)        # True\n",
        "print(\"a is c:\", a is c)        # False\n",
        "print(\"a is not c:\", a is not c)  # True\n"
      ],
      "metadata": {
        "colab": {
          "base_uri": "https://localhost:8080/"
        },
        "id": "ozQPUmtzcPVL",
        "outputId": "93e2d5ba-cee6-4e51-a93e-f15b4e49f42b"
      },
      "execution_count": 13,
      "outputs": [
        {
          "output_type": "stream",
          "name": "stdout",
          "text": [
            "Arithmetic Operators:\n",
            "Addition: 13\n",
            "Subtraction: 7\n",
            "Multiplication: 30\n",
            "Division: 3.3333333333333335\n",
            "Floor Division: 3\n",
            "Modulus: 1\n",
            "Exponent: 1000\n",
            "\n",
            "Comparison Operators:\n",
            "Equal: False\n",
            "Not Equal: True\n",
            "Greater than: True\n",
            "Less than: False\n",
            "Greater or equal: True\n",
            "Less or equal: False\n",
            "\n",
            "Logical Operators:\n",
            "AND: False\n",
            "OR: True\n",
            "NOT x: False\n",
            "\n",
            "Assignment Operators:\n",
            "Initial c: 5\n",
            "c += 2: 7\n",
            "c *= 3: 21\n",
            "c -= 4: 17\n",
            "c /= 2: 8.5\n",
            "\n",
            "Bitwise Operators:\n",
            "AND: 1\n",
            "OR: 7\n",
            "XOR: 6\n",
            "NOT m: -6\n",
            "Left Shift m << 1: 10\n",
            "Right Shift m >> 1: 2\n",
            "\n",
            "Membership Operators:\n",
            "2 in list: True\n",
            "5 not in list: True\n",
            "\n",
            "Identity Operators:\n",
            "a is b: True\n",
            "a is c: False\n",
            "a is not c: True\n"
          ]
        }
      ]
    },
    {
      "cell_type": "markdown",
      "source": [
        "Q5. Explain the concept of type casting in Python with examples.\n",
        "\n",
        "Ans: Type casting is the process of converting a value from one data type to another. Python provides built-in functions to manually (explicitly) convert types, and sometimes it automatically (implicitly) converts them during operations.\n",
        "\n",
        " 1. Implicit Type Casting\n",
        "Python automatically converts one data type to another during expression evaluation without user intervention.\n",
        "\n",
        "Example:"
      ],
      "metadata": {
        "id": "DlJvsPVfZ7cr"
      }
    },
    {
      "cell_type": "code",
      "source": [
        "a = 5        # int\n",
        "b = 2.0      # float\n",
        "result = a + b  # int is implicitly converted to float\n",
        "print(result)   # Output: 7.0\n",
        "print(type(result))  # <class 'float'>\n"
      ],
      "metadata": {
        "colab": {
          "base_uri": "https://localhost:8080/"
        },
        "id": "HOEy6deUdFfh",
        "outputId": "f56b103c-112d-420f-ac56-07fad1ffd6d2"
      },
      "execution_count": 14,
      "outputs": [
        {
          "output_type": "stream",
          "name": "stdout",
          "text": [
            "7.0\n",
            "<class 'float'>\n"
          ]
        }
      ]
    },
    {
      "cell_type": "markdown",
      "source": [
        " 2. Explicit Type Casting\n",
        "The programmer manually converts data from one type to another using functions like int(), float(), str(), list(), etc.\n",
        "\n",
        "Examples:"
      ],
      "metadata": {
        "id": "61Et3uwedIt6"
      }
    },
    {
      "cell_type": "code",
      "source": [
        "# Converting string to integer\n",
        "num_str = \"100\"\n",
        "num_int = int(num_str)\n",
        "print(num_int + 50)  # Output: 150\n",
        "\n",
        "# Converting float to int\n",
        "f = 9.7\n",
        "print(int(f))  # Output: 9 (decimal part is truncated)\n",
        "\n",
        "# Converting int to float\n",
        "i = 5\n",
        "print(float(i))  # Output: 5.0\n",
        "\n",
        "# Converting number to string\n",
        "age = 21\n",
        "print(\"Age is \" + str(age))  # Output: Age is 21\n"
      ],
      "metadata": {
        "colab": {
          "base_uri": "https://localhost:8080/"
        },
        "id": "hwReF0KWdM_R",
        "outputId": "74c51b68-87c9-43dd-bcca-2d224dbb8a1f"
      },
      "execution_count": 15,
      "outputs": [
        {
          "output_type": "stream",
          "name": "stdout",
          "text": [
            "150\n",
            "9\n",
            "5.0\n",
            "Age is 21\n"
          ]
        }
      ]
    },
    {
      "cell_type": "markdown",
      "source": [
        "Q6.  How do conditional statements work in Python? Illustrate with examples.\n",
        "\n",
        "Ans: Conditional statements allow your program to make decisions and execute certain blocks of code based on whether a condition is True or False. Python uses if, elif, and else to control the flow of a program."
      ],
      "metadata": {
        "id": "1MMYTLRHdTP6"
      }
    },
    {
      "cell_type": "code",
      "source": [
        "# 1.if Statement\n",
        "# Executes a block of code only if the condition is true.\n",
        "print(\"if Statement:\")\n",
        "age = 18\n",
        "if age >= 18:\n",
        "    print(\"You are eligible to vote.\")\n",
        "\n",
        "# 2.  if-else Statement\n",
        "# Adds an alternative block if the condition is false.\n",
        "print(\"\\nif-else Statement:\")\n",
        "num = 10\n",
        "if num % 2 == 0:\n",
        "    print(\"Even number\")\n",
        "else:\n",
        "    print(\"Odd number\")\n",
        "\n",
        "# 3. if-elif-else Statement\n",
        "# Allows checking multiple conditions in sequence.\n",
        "print(\"\\nif-elif-else Statement:\")\n",
        "marks = 75\n",
        "\n",
        "if marks >= 90:\n",
        "    print(\"Grade: A\")\n",
        "elif marks >= 75:\n",
        "    print(\"Grade: B\")\n",
        "elif marks >= 60:\n",
        "    print(\"Grade: C\")\n",
        "else:\n",
        "    print(\"Grade: D\")\n",
        "# 4. Nested if Statements\n",
        "# An if statement inside another if.\n",
        "print(\"\\nNested if Statements:\")\n",
        "x = 15\n",
        "\n",
        "if x > 10:\n",
        "    if x < 20:\n",
        "        print(\"x is between 10 and 20\")\n"
      ],
      "metadata": {
        "colab": {
          "base_uri": "https://localhost:8080/"
        },
        "id": "KIvC4WNBdkQk",
        "outputId": "3ddb05d8-ff9c-48c9-db19-219fedaca97d"
      },
      "execution_count": 17,
      "outputs": [
        {
          "output_type": "stream",
          "name": "stdout",
          "text": [
            "if Statement:\n",
            "You are eligible to vote.\n",
            "\n",
            "if-else Statement:\n",
            "Even number\n",
            "\n",
            "if-elif-else Statement:\n",
            "Grade: B\n",
            "\n",
            "Nested if Statements:\n",
            "x is between 10 and 20\n"
          ]
        }
      ]
    },
    {
      "cell_type": "markdown",
      "source": [
        "Q7.  Describe the different types of loops in Python and their use cases with examples.\n",
        "\n",
        "Ans: *** Types of Loops in Python with Examples *** <br>\n",
        "Loops are used in Python to execute a block of code repeatedly as long as a condition is met. Python primarily supports two types of loops: for loop and while loop. It also supports nested loops.\n",
        "\n",
        "1. **for Loop** <br>\n",
        "The for loop is used to iterate over a sequence like a list, string, tuple, or a range of numbers.\n",
        "* Use Case: When the number of iterations is known or you're working with a collection.\n",
        "\n",
        "2. **while Loop** <br>\n",
        "The while loop repeats as long as a given condition is True.\n",
        "* Use Case: When the number of iterations is not known in advance.\n",
        "\n",
        "3. **Nested Loops** <br>\n",
        "A loop inside another loop is called a nested loop.\n",
        "* Use Case: When working with multi-dimensional data or creating patterns.\n",
        "\n",
        "**Loop Control Statements** <br>\n",
        "* Python also provides control statements to manage loop execution:\n",
        "\n",
        "* break – Exits the loop prematurely\n",
        "\n",
        "* continue – Skips the current iteration\n",
        "\n",
        "* pass – Placeholder for future code\n",
        "\n",
        "* Example:"
      ],
      "metadata": {
        "id": "0V-ll65AfKxA"
      }
    },
    {
      "cell_type": "code",
      "source": [
        "# Loop through a list\n",
        "print(\"\\nFor Loop\")\n",
        "fruits = [\"apple\", \"banana\", \"cherry\"]\n",
        "for fruit in fruits:\n",
        "    print(fruit)\n",
        "\n",
        "# Loop using range\n",
        "for i in range(1, 6):\n",
        "    print(i)\n",
        "\n",
        "print(\"\\nWhile Loop\")\n",
        "# Print numbers from 1 to 5\n",
        "i = 1\n",
        "while i <= 5:\n",
        "    print(i)\n",
        "    i += 1\n",
        "\n",
        "print(\"\\nNested Loop\")\n",
        "# Print a 3x3 grid of *\n",
        "for i in range(3):\n",
        "    for j in range(3):\n",
        "        print(\"*\", end=\" \")\n",
        "    print()\n",
        "\n",
        "print(\"\\nExample with break and continue:\")\n",
        "for i in range(5):\n",
        "    if i == 3:\n",
        "        continue  # Skip 3\n",
        "    if i == 4:\n",
        "        break     # Stop loop at 4\n",
        "    print(i)\n"
      ],
      "metadata": {
        "colab": {
          "base_uri": "https://localhost:8080/"
        },
        "id": "goGJ0UWJf5Km",
        "outputId": "fdef696d-a33d-4c59-fb62-d305b0109b11"
      },
      "execution_count": 21,
      "outputs": [
        {
          "output_type": "stream",
          "name": "stdout",
          "text": [
            "\n",
            "For Loop\n",
            "apple\n",
            "banana\n",
            "cherry\n",
            "1\n",
            "2\n",
            "3\n",
            "4\n",
            "5\n",
            "\n",
            "While Loop\n",
            "1\n",
            "2\n",
            "3\n",
            "4\n",
            "5\n",
            "\n",
            "Nested Loop\n",
            "* * * \n",
            "* * * \n",
            "* * * \n",
            "\n",
            "Example with break and continue:\n",
            "0\n",
            "1\n",
            "2\n"
          ]
        }
      ]
    }
  ]
}