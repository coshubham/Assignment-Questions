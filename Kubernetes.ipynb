{
  "nbformat": 4,
  "nbformat_minor": 0,
  "metadata": {
    "colab": {
      "provenance": []
    },
    "kernelspec": {
      "name": "python3",
      "display_name": "Python 3"
    },
    "language_info": {
      "name": "python"
    }
  },
  "cells": [
    {
      "cell_type": "markdown",
      "source": [
        "**1. Kubernetes Assignment**\n",
        "\n",
        " **Tasks To Be Performed:**\n",
        "\n",
        "    1. Deploy a Kubernetes cluster for 3 node.\n",
        "    2. Create a NGINX deployment of 3 replicas.\n",
        "\n",
        "**ANS:**<br>\n",
        "**Step 1:** Ensure Minikube or Kind cluster with 3 nodes and Check nodes\n",
        "```\n",
        "minikube start --nodes 3 --driver=docker\n",
        "kubectl get nodes\n",
        "```\n",
        "\n",
        "**Step 2:** Create nginx-deployment.yaml file:"
      ],
      "metadata": {
        "id": "98zNNPFj4Tdg"
      }
    },
    {
      "cell_type": "code",
      "execution_count": null,
      "metadata": {
        "id": "2w7CM3Rm330s"
      },
      "outputs": [],
      "source": [
        "# nginx-deployment.yaml\n",
        "\n",
        "apiVersion: apps/v1\n",
        "kind: Deployment\n",
        "metadata:\n",
        "  name: nginx-deployment\n",
        "spec:\n",
        "  replicas: 3\n",
        "  selector:\n",
        "    matchLabels:\n",
        "      app: nginx\n",
        "  template:\n",
        "    metadata:\n",
        "      labels:\n",
        "        app: nginx\n",
        "    spec:\n",
        "      containers:\n",
        "      - name: nginx\n",
        "        image: nginx:latest\n",
        "        ports:\n",
        "        - containerPort: 80\n"
      ]
    },
    {
      "cell_type": "markdown",
      "source": [
        "**Step 3:** Run all this command\n",
        "```\n",
        "kubectl apply -f nginx-deployment.yaml\n",
        "kubectl get deployments\n",
        "kubectl get pods -o wide\n",
        "```"
      ],
      "metadata": {
        "id": "miE4H7sc5UEf"
      }
    },
    {
      "cell_type": "markdown",
      "source": [
        " **2. Kubernetes Assignment**\n",
        "\n",
        " **Tasks To Be Performed:**\n",
        "\n",
        "    1. Use the previous deployment.\n",
        "    2. Create a service of type NodePort for NGINX deployment.\n",
        "    3. Check the NodePort service on a browser to verify.\n",
        "\n",
        "**ANS:**<br>\n",
        "\n",
        "**Step 1:** Create nginx-service-nodeport.yaml file:\n"
      ],
      "metadata": {
        "id": "cnlRgACX5gpe"
      }
    },
    {
      "cell_type": "code",
      "source": [
        "# nginx-service-nodeport.yaml\n",
        "\n",
        "apiVersion: v1\n",
        "kind: Service\n",
        "metadata:\n",
        "  name: nginx-service\n",
        "spec:\n",
        "  type: NodePort\n",
        "  selector:\n",
        "    app: nginx\n",
        "  ports:\n",
        "  - port: 80\n",
        "    targetPort: 80\n",
        "    nodePort: 30007   # (Range: 30000–32767)\n"
      ],
      "metadata": {
        "id": "ULxtnGSw5-SJ"
      },
      "execution_count": null,
      "outputs": []
    },
    {
      "cell_type": "markdown",
      "source": [
        "**Step 2:** Run all this command\n",
        "\n",
        "```\n",
        "kubectl apply -f nginx-service-nodeport.yaml\n",
        "kubectl get svc\n",
        "```\n",
        "\n",
        "**Step 3:** Get Minikube IP and Opne in Browser:\n",
        "```\n",
        "minikube ip\n",
        "```\n"
      ],
      "metadata": {
        "id": "SG8Ec_vn6C7h"
      }
    },
    {
      "cell_type": "markdown",
      "source": [
        "**3. Kubernetes Assignment**\n",
        "\n",
        "**Tasks To Be Performed:**\n",
        "\n",
        "    1. Use the previous deployment.\n",
        "    2. Change the replicas to 5 for the deployment.\n",
        "\n",
        "**ANS:**\n",
        "\n",
        "**Step 1:** "Edit deployment:\n",
        "```\n",
        "kubectl scale deployment nginx-deployment --replicas=5\n",
        "```\n",
        "Or update YAML:\n",
        "```\n",
        "spec:\n",
        "  replicas: 5\n",
        "```\n",
        "\n",
        "**Step 2:** Verify it use this commands\n",
        "```\n",
        "kubectl get deployments\n",
        "kubectl get pods -o wide\n",
        "```"
      ],
      "metadata": {
        "id": "zc9UtWBA6mpe"
      }
    },
    {
      "cell_type": "markdown",
      "source": [
        "**4. Kubernetes Assignment**\n",
        " **Tasks To Be Performed:**\n",
        "\n",
        "     1. Use the previous deployment.\n",
        "     2. Change the service type to ClusterIP.\n",
        "    \n",
        "**ANS:**\n",
        "\n",
        "**Step 1:** Edit Service:\n",
        "```\n",
        "kubectl edit svc nginx-service\n",
        "```\n",
        "**Step 2:** Change the ymal file\n",
        "```\n",
        "spec:\n",
        "  type: ClusterIP\n",
        "```\n",
        "**Step 3:** Verify using this commands\n",
        "```\n",
        "kubectl get svc\n",
        "\n",
        "# Now service will be accessible only inside cluster.\n",
        "```"
      ],
      "metadata": {
        "id": "OH71GWtf7iM0"
      }
    },
    {
      "cell_type": "markdown",
      "source": [
        "**5. Kubernetes Assignment**\n",
        "\n",
        "**Tasks To Be Performed:**\n",
        "\n",
        "     1. Use the previous deployment.\n",
        "     2. Deploy an NGINX deployment of 3 replicas.\n",
        "     3. Create an NGINX service of type ClusterIP.\n",
        "     4. Create an ingress service/ Apache to Apache service/ NGINX to NGINX service.\n",
        "\n",
        "**ANS:**\n",
        "\n",
        "**Step 1:** Create nginx-deployment.yaml file:\n"
      ],
      "metadata": {
        "id": "4BLtmS0r8kR9"
      }
    },
    {
      "cell_type": "code",
      "source": [
        "# nginx-deployment.yaml\n",
        "\n",
        "apiVersion: apps/v1\n",
        "kind: Deployment\n",
        "metadata:\n",
        "  name: nginx-deploy\n",
        "spec:\n",
        "  replicas: 3\n",
        "  selector:\n",
        "    matchLabels:\n",
        "      app: nginx\n",
        "  template:\n",
        "    metadata:\n",
        "      labels:\n",
        "        app: nginx\n",
        "    spec:\n",
        "      containers:\n",
        "      - name: nginx\n",
        "        image: nginx:latest\n",
        "        ports:\n",
        "        - containerPort: 80"
      ],
      "metadata": {
        "id": "K4DkJFHp9NSJ"
      },
      "execution_count": null,
      "outputs": []
    },
    {
      "cell_type": "markdown",
      "source": [
        "**Step 2:** Create\n",
        "nginx-service-clusterip.yaml file:"
      ],
      "metadata": {
        "id": "NeTbSWku9Sjx"
      }
    },
    {
      "cell_type": "code",
      "source": [
        "# nginx-service-clusterip.yaml:\n",
        "\n",
        "apiVersion: v1\n",
        "kind: Service\n",
        "metadata:\n",
        "  name: nginx-clusterip\n",
        "spec:\n",
        "  type: ClusterIP\n",
        "  selector:\n",
        "    app: nginx\n",
        "  ports:\n",
        "  - port: 80\n",
        "    targetPort: 80"
      ],
      "metadata": {
        "id": "zV5nXlvj9Ic3"
      },
      "execution_count": null,
      "outputs": []
    },
    {
      "cell_type": "markdown",
      "source": [
        "**Step 3:** Enable Ingress in Minikube:\n",
        "```\n",
        "minikube addons enable ingress\n",
        "```\n",
        "**What this command will do ?**\n",
        "*  Minikube comes with several pre-packaged add-ons (like monitoring, metrics-server, dashboard, ingress, etc.).\n",
        "\n",
        "* When you run the command above, you are enabling the NGINX Ingress Controller inside your Minikube cluster.\n",
        "\n",
        "**Step 4:** Create nginx-ingress.yaml\n"
      ],
      "metadata": {
        "id": "ujNG2O1V9mdQ"
      }
    },
    {
      "cell_type": "code",
      "source": [
        "#  nginx-ingress.yaml\n",
        "\n",
        "apiVersion: networking.k8s.io/v1\n",
        "kind: Ingress\n",
        "metadata:\n",
        "  name: nginx-ingress\n",
        "  annotations:\n",
        "    nginx.ingress.kubernetes.io/rewrite-target: /\n",
        "spec:\n",
        "  rules:\n",
        "  - host: nginx.local\n",
        "    http:\n",
        "      paths:\n",
        "      - path: /\n",
        "        pathType: Prefix\n",
        "        backend:\n",
        "          service:\n",
        "            name: nginx-clusterip\n",
        "            port:\n",
        "              number: 80\n"
      ],
      "metadata": {
        "id": "EfD4Kwtl690Z"
      },
      "execution_count": null,
      "outputs": []
    },
    {
      "cell_type": "markdown",
      "source": [
        "**Step 5:** Run all this commands:\n",
        "```\n",
        "kubectl apply -f nginx-deployment.yaml\n",
        "kubectl apply -f nginx-service-clusterip.yaml\n",
        "kubectl apply -f nginx-ingress.yaml\n",
        "```\n",
        "**Step 6:** Update /etc/hosts:\n",
        "```\n",
        "<MINIKUBE-IP>  nginx.local\n",
        "```\n",
        "**Step 7:** Open in Browser\n",
        "```\n",
        "http://nginx.local\n",
        "```"
      ],
      "metadata": {
        "id": "xwXIdIRX-Zpy"
      }
    }
  ]
}
