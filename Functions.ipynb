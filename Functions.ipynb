{
  "nbformat": 4,
  "nbformat_minor": 0,
  "metadata": {
    "colab": {
      "provenance": []
    },
    "kernelspec": {
      "name": "python3",
      "display_name": "Python 3"
    },
    "language_info": {
      "name": "python"
    }
  },
  "cells": [
    {
      "cell_type": "markdown",
      "source": [
        "Q1. What is the difference between a function and a method in Python?\n",
        "\n",
        "Ans: A function is a block of reusable code that performs a specific task and is defined using the def keyword.\n",
        "A method is a function that is associated with an object and is called using dot notation on that object. All methods are functions, but not all functions are methods.\n",
        "\n",
        "Example:\n"
      ],
      "metadata": {
        "id": "mV493FARsLfa"
      }
    },
    {
      "cell_type": "code",
      "execution_count": 1,
      "metadata": {
        "colab": {
          "base_uri": "https://localhost:8080/"
        },
        "id": "KqawwiMpsI6n",
        "outputId": "5beb369d-9242-49bd-ebe6-9e237d5c23ad"
      },
      "outputs": [
        {
          "output_type": "stream",
          "name": "stdout",
          "text": [
            "SHUBHAM\n"
          ]
        }
      ],
      "source": [
        "def greet():\n",
        "    print(\"Hello!\")  # Function\n",
        "\n",
        "name = \"Shubham\"\n",
        "print(name.upper())  # Method\n"
      ]
    },
    {
      "cell_type": "markdown",
      "source": [
        "Q2. Explain the concept of function arguments and parameters in Python.\n",
        "\n",
        "Ans: Parameters are the variables listed in a function definition, while arguments are the actual values passed during function call.\n",
        "Python allows different types of arguments: positional, keyword, default, and variable-length.\n",
        "Understanding this concept helps in writing flexible and reusable functions.\n",
        "\n",
        "Example:"
      ],
      "metadata": {
        "id": "B5FDIaAYtBXZ"
      }
    },
    {
      "cell_type": "code",
      "source": [
        "def greet(name):  # 'name' is a parameter\n",
        "    print(\"Hello\", name)\n",
        "\n",
        "greet(\"Shubham\")  # \"Shubham\" is an argument\n"
      ],
      "metadata": {
        "colab": {
          "base_uri": "https://localhost:8080/"
        },
        "id": "deSIOlj8tQva",
        "outputId": "91dd7223-4966-45b0-e225-ee2a8589142e"
      },
      "execution_count": 3,
      "outputs": [
        {
          "output_type": "stream",
          "name": "stdout",
          "text": [
            "Hello Shubham\n"
          ]
        }
      ]
    },
    {
      "cell_type": "markdown",
      "source": [
        "Q3. What are the different ways to define and call a function in Python?\n",
        "\n",
        "Ans: You can define functions using the def keyword for normal functions or lambda for anonymous short functions.\n",
        "You call them using their name followed by parentheses.\n",
        "Lambda functions are commonly used with functions like map(), filter(), and reduce().\n",
        "\n",
        "Example:"
      ],
      "metadata": {
        "id": "S79Y47BztYID"
      }
    },
    {
      "cell_type": "code",
      "source": [
        "def add(a, b):\n",
        "    return a + b\n",
        "\n",
        "print(add(2, 3))\n",
        "\n",
        "add = lambda a, b: a + b\n",
        "print(add(2, 3))\n"
      ],
      "metadata": {
        "colab": {
          "base_uri": "https://localhost:8080/"
        },
        "id": "gC43TF7Utkqs",
        "outputId": "88a709d7-72e9-4075-b4e6-1b5714fea873"
      },
      "execution_count": 4,
      "outputs": [
        {
          "output_type": "stream",
          "name": "stdout",
          "text": [
            "5\n",
            "5\n"
          ]
        }
      ]
    },
    {
      "cell_type": "markdown",
      "source": [
        "Q4. What is the purpose of the return statement in a Python function?\n",
        "\n",
        "Ans: The return statement is used to send the result from a function back to the caller.\n",
        "It ends the execution of the function and passes the result to wherever the function was called.\n",
        "You can return any data type or even multiple values.\n",
        "\n",
        "Example:"
      ],
      "metadata": {
        "id": "Hrhme3Ietoal"
      }
    },
    {
      "cell_type": "code",
      "source": [
        "def multiply(a, b):\n",
        "    return a * b\n",
        "\n",
        "result = multiply(4, 5)\n",
        "print(result)"
      ],
      "metadata": {
        "colab": {
          "base_uri": "https://localhost:8080/"
        },
        "id": "n6lK7Wk0tuBQ",
        "outputId": "ebdeb391-b57d-47a1-bb68-49f5b32ffc1a"
      },
      "execution_count": 5,
      "outputs": [
        {
          "output_type": "stream",
          "name": "stdout",
          "text": [
            "20\n"
          ]
        }
      ]
    },
    {
      "cell_type": "markdown",
      "source": [
        "Q5. What are iterators in Python and how do they differ from iterables?\n",
        "\n",
        "Ans: An iterator is an object that implements the __iter__() and __next__() methods.\n",
        "An iterable is an object like a list or tuple that can return an iterator using iter().\n",
        "Iterators allow us to iterate over items one at a time, useful for large data processing.\n",
        "\n",
        "Example:"
      ],
      "metadata": {
        "id": "8OTXlXlNt3VE"
      }
    },
    {
      "cell_type": "code",
      "source": [
        "nums = [1, 2, 3]\n",
        "it = iter(nums)\n",
        "print(next(it))"
      ],
      "metadata": {
        "colab": {
          "base_uri": "https://localhost:8080/"
        },
        "id": "QqA1TgZpuCcA",
        "outputId": "7d46d053-6e5d-4b1d-99b6-ca00426b73e7"
      },
      "execution_count": 6,
      "outputs": [
        {
          "output_type": "stream",
          "name": "stdout",
          "text": [
            "1\n"
          ]
        }
      ]
    },
    {
      "cell_type": "markdown",
      "source": [
        "Q6. Explain the concept of generators in Python and how they are defined.\n",
        "\n",
        "Ans: Generators are special types of iterators that use the yield keyword instead of return.\n",
        "They are defined like normal functions but return values one at a time as they’re requested.\n",
        "This makes them memory-efficient and suitable for large datasets or streams.\n",
        "\n",
        "Example:"
      ],
      "metadata": {
        "id": "no4CKNfIuHO5"
      }
    },
    {
      "cell_type": "code",
      "source": [
        "def my_gen():\n",
        "    yield 1\n",
        "    yield 2\n",
        "\n",
        "for i in my_gen():\n",
        "    print(i)"
      ],
      "metadata": {
        "colab": {
          "base_uri": "https://localhost:8080/"
        },
        "id": "9ORM5S3juOKx",
        "outputId": "fc4b7b11-5350-4c30-f70b-d4e50e83ed0c"
      },
      "execution_count": 7,
      "outputs": [
        {
          "output_type": "stream",
          "name": "stdout",
          "text": [
            "1\n",
            "2\n"
          ]
        }
      ]
    },
    {
      "cell_type": "markdown",
      "source": [
        "Q7. What are the advantages of using generators over regular functions?\n",
        "\n",
        "Ans:\n",
        "* **Memory Efficient:** Generators don’t store all values in memory, they give one value at a time.\n",
        "\n",
        "* **Pause and Resume:** They pause at each yield and continue when asked — saving time and resources.\n",
        "\n",
        "* **Handle Infinite Data:** Generators are perfect for creating infinite sequences like Fibonacci or streams.\n",
        "\n",
        "* **Faster Start:** They start giving results immediately without building the whole list first.\n",
        "\n",
        "* **Simple Code:** Easy to write and use for large data tasks with less code.\n",
        "\n",
        "Example:"
      ],
      "metadata": {
        "id": "FT7uXwy3uXtM"
      }
    },
    {
      "cell_type": "code",
      "source": [
        "def gen_numbers():\n",
        "    for i in range(5):\n",
        "        yield i  # gives one number at a time\n",
        "\n",
        "for num in gen_numbers():\n",
        "    print(num)"
      ],
      "metadata": {
        "colab": {
          "base_uri": "https://localhost:8080/"
        },
        "id": "NicCDg03ukwU",
        "outputId": "3aec3aa2-ca51-4a36-f8fa-812f4fb49635"
      },
      "execution_count": 8,
      "outputs": [
        {
          "output_type": "stream",
          "name": "stdout",
          "text": [
            "0\n",
            "1\n",
            "2\n",
            "3\n",
            "4\n"
          ]
        }
      ]
    },
    {
      "cell_type": "markdown",
      "source": [
        "Q8. What is a lambda function in Python and when is it typically used?\n",
        "\n",
        "Ans: A lambda function is a short, anonymous function written using the lambda keyword.\n",
        "It’s used for simple operations where defining a full function is unnecessary.\n",
        "Lambda functions are often used with map(), filter(), and sorted().\n",
        "\n",
        "Example:"
      ],
      "metadata": {
        "id": "BXyYhvisvs6H"
      }
    },
    {
      "cell_type": "code",
      "source": [
        "square = lambda x: x * x\n",
        "print(square(5))"
      ],
      "metadata": {
        "colab": {
          "base_uri": "https://localhost:8080/"
        },
        "id": "hROQJSkFvxCu",
        "outputId": "f473639e-4029-453b-c047-d4ff1b7db2d0"
      },
      "execution_count": 9,
      "outputs": [
        {
          "output_type": "stream",
          "name": "stdout",
          "text": [
            "25\n"
          ]
        }
      ]
    },
    {
      "cell_type": "markdown",
      "source": [
        "Q9. Explain the purpose and usage of the map() function in Python.\n",
        "\n",
        "Ans: The map() function applies a given function to all items in an iterable.\n",
        "It returns a map object which can be converted to a list.\n",
        "This is useful for transforming data efficiently in a functional style.\n",
        "\n",
        "Example:"
      ],
      "metadata": {
        "id": "7YzSizgXv4XW"
      }
    },
    {
      "cell_type": "code",
      "source": [
        "nums = [1, 2, 3]\n",
        "doubled = list(map(lambda x: x*2, nums))\n",
        "print(doubled)\n"
      ],
      "metadata": {
        "colab": {
          "base_uri": "https://localhost:8080/"
        },
        "id": "6TgIl9yzv7Tf",
        "outputId": "556fd239-3ede-42cf-a260-ada05a64f18d"
      },
      "execution_count": 10,
      "outputs": [
        {
          "output_type": "stream",
          "name": "stdout",
          "text": [
            "[2, 4, 6]\n"
          ]
        }
      ]
    },
    {
      "cell_type": "markdown",
      "source": [
        "Q10. What is the difference between map(), reduce(), and filter() functions in Python?\n",
        "\n",
        "Ans:\n",
        "\n",
        "* map() transforms all items in an iterable using a function.\n",
        "\n",
        "* filter() filters out elements based on a condition.\n",
        "\n",
        "* reduce() combines all elements into a single value (needs to be imported).\n",
        "These are core tools in functional programming in Python.\n",
        "\n",
        "Example:"
      ],
      "metadata": {
        "id": "fA-_fANFv_Pg"
      }
    },
    {
      "cell_type": "code",
      "source": [
        "from functools import reduce\n",
        "\n",
        "nums = [1, 2, 3, 4]\n",
        "print(list(map(lambda x: x+1, nums)))\n",
        "print(list(filter(lambda x: x%2==0, nums)))\n",
        "print(reduce(lambda x, y: x + y, nums))\n"
      ],
      "metadata": {
        "colab": {
          "base_uri": "https://localhost:8080/"
        },
        "id": "79kKuhDWwNaz",
        "outputId": "52f31606-4e43-4d3a-c444-02f76ed13644"
      },
      "execution_count": 11,
      "outputs": [
        {
          "output_type": "stream",
          "name": "stdout",
          "text": [
            "[2, 3, 4, 5]\n",
            "[2, 4]\n",
            "10\n"
          ]
        }
      ]
    },
    {
      "cell_type": "markdown",
      "source": [
        "Q11. Internal mechanism for sum using reduce on list [47, 11, 42, 13]\n",
        "\n",
        "Ans: The reduce() function is used to apply a function cumulatively to the elements of a list, from left to right, so as to reduce the list to a single value.\n",
        "\n",
        "Here, we want to add all numbers using:"
      ],
      "metadata": {
        "id": "2zgVygNCwgRF"
      }
    },
    {
      "cell_type": "code",
      "source": [
        "reduce(lambda x, y: x + y, [47, 11, 42, 13])"
      ],
      "metadata": {
        "colab": {
          "base_uri": "https://localhost:8080/"
        },
        "id": "OKjjgjApwhFM",
        "outputId": "cd4b106b-f381-45bb-94e6-0da89ded0a61"
      },
      "execution_count": 13,
      "outputs": [
        {
          "output_type": "execute_result",
          "data": {
            "text/plain": [
              "113"
            ]
          },
          "metadata": {},
          "execution_count": 13
        }
      ]
    },
    {
      "cell_type": "markdown",
      "source": [
        "**Practical Answers**"
      ],
      "metadata": {
        "id": "GZQmyS43xL_i"
      }
    },
    {
      "cell_type": "markdown",
      "source": [
        "# 1. Sum of even numbers"
      ],
      "metadata": {
        "id": "KXG5_XuOxnm8"
      }
    },
    {
      "cell_type": "code",
      "source": [
        "\n",
        "def sum_even(nums):\n",
        "    return sum([x for x in nums if x % 2 == 0])\n",
        "\n",
        "print(sum_even([1, 2, 3, 4, 5]))"
      ],
      "metadata": {
        "colab": {
          "base_uri": "https://localhost:8080/"
        },
        "id": "O0xEGDGBxcBM",
        "outputId": "a35e35d7-b90e-438f-a080-5af56b6b476a"
      },
      "execution_count": 14,
      "outputs": [
        {
          "output_type": "stream",
          "name": "stdout",
          "text": [
            "6\n"
          ]
        }
      ]
    },
    {
      "cell_type": "markdown",
      "source": [
        "# 2. Reverse a string:"
      ],
      "metadata": {
        "id": "n7CqZS0wxvQ1"
      }
    },
    {
      "cell_type": "code",
      "source": [
        "def reverse_string(s):\n",
        "    return s[::-1]\n",
        "\n",
        "print(reverse_string(\"hello\"))"
      ],
      "metadata": {
        "colab": {
          "base_uri": "https://localhost:8080/"
        },
        "id": "BRj4vHGCxzdD",
        "outputId": "d2ecb4ce-f366-47a3-b125-1cb5c5ffa90c"
      },
      "execution_count": 15,
      "outputs": [
        {
          "output_type": "stream",
          "name": "stdout",
          "text": [
            "olleh\n"
          ]
        }
      ]
    },
    {
      "cell_type": "markdown",
      "source": [
        "# 3. Square of each number:"
      ],
      "metadata": {
        "id": "VNKdOeRDx1sm"
      }
    },
    {
      "cell_type": "code",
      "source": [
        "def square_list(lst):\n",
        "    return [x**2 for x in lst]\n",
        "\n",
        "print(square_list([1, 2, 3]))"
      ],
      "metadata": {
        "colab": {
          "base_uri": "https://localhost:8080/"
        },
        "id": "g775T9kEx5fv",
        "outputId": "660d2e96-a8f4-49b8-ec86-69a01d4f0ecd"
      },
      "execution_count": 16,
      "outputs": [
        {
          "output_type": "stream",
          "name": "stdout",
          "text": [
            "[1, 4, 9]\n"
          ]
        }
      ]
    },
    {
      "cell_type": "markdown",
      "source": [
        "# 4. Prime numbers from 1 to 200:"
      ],
      "metadata": {
        "id": "562UGfnKx9T5"
      }
    },
    {
      "cell_type": "code",
      "source": [
        "def is_prime(n):\n",
        "    if n < 2:\n",
        "        return False\n",
        "    for i in range(2, int(n**0.5)+1):\n",
        "        if n % i == 0:\n",
        "            return False\n",
        "    return True\n",
        "\n",
        "for i in range(1, 201):\n",
        "    if is_prime(i):\n",
        "        print(i, end=\" \")"
      ],
      "metadata": {
        "colab": {
          "base_uri": "https://localhost:8080/"
        },
        "id": "g2BhpaxlyBKI",
        "outputId": "69a030c8-0919-4b62-dcb7-f3b1969f96cd"
      },
      "execution_count": 17,
      "outputs": [
        {
          "output_type": "stream",
          "name": "stdout",
          "text": [
            "2 3 5 7 11 13 17 19 23 29 31 37 41 43 47 53 59 61 67 71 73 79 83 89 97 101 103 107 109 113 127 131 137 139 149 151 157 163 167 173 179 181 191 193 197 199 "
          ]
        }
      ]
    },
    {
      "cell_type": "markdown",
      "source": [
        "# 5. Fibonacci Iterator Class:"
      ],
      "metadata": {
        "id": "3l1UP1RVyERA"
      }
    },
    {
      "cell_type": "code",
      "source": [
        "class Fibonacci:\n",
        "    def __init__(self, n):\n",
        "        self.n = n\n",
        "        self.a = 0\n",
        "        self.b = 1\n",
        "        self.count = 0\n",
        "\n",
        "    def __iter__(self):\n",
        "        return self\n",
        "\n",
        "    def __next__(self):\n",
        "        if self.count >= self.n:\n",
        "            raise StopIteration\n",
        "        self.count += 1\n",
        "        self.a, self.b = self.b, self.a + self.b\n",
        "        return self.a\n",
        "\n",
        "for num in Fibonacci(10):\n",
        "    print(num)"
      ],
      "metadata": {
        "colab": {
          "base_uri": "https://localhost:8080/"
        },
        "id": "pcAxAfq0yG15",
        "outputId": "e7f67179-0908-462a-b62e-2b2f6e0d1f14"
      },
      "execution_count": 18,
      "outputs": [
        {
          "output_type": "stream",
          "name": "stdout",
          "text": [
            "1\n",
            "1\n",
            "2\n",
            "3\n",
            "5\n",
            "8\n",
            "13\n",
            "21\n",
            "34\n",
            "55\n"
          ]
        }
      ]
    },
    {
      "cell_type": "markdown",
      "source": [
        "# 6. Powers of 2 Generator:"
      ],
      "metadata": {
        "id": "C2dh_au5yNxx"
      }
    },
    {
      "cell_type": "code",
      "source": [
        "def power_two(n):\n",
        "    for i in range(n+1):\n",
        "        yield 2**i\n",
        "\n",
        "for val in power_two(5):\n",
        "    print(val)"
      ],
      "metadata": {
        "colab": {
          "base_uri": "https://localhost:8080/"
        },
        "id": "8iWDyCJJyQZr",
        "outputId": "1fc6b07b-bd76-4bf0-b5b3-09569b71e70b"
      },
      "execution_count": 19,
      "outputs": [
        {
          "output_type": "stream",
          "name": "stdout",
          "text": [
            "1\n",
            "2\n",
            "4\n",
            "8\n",
            "16\n",
            "32\n"
          ]
        }
      ]
    },
    {
      "cell_type": "markdown",
      "source": [
        "# 7. File line-by-line generator:"
      ],
      "metadata": {
        "id": "sVBZwJJayUsr"
      }
    },
    {
      "cell_type": "code",
      "source": [
        "def read_lines(filename):\n",
        "    with open(filename) as f:\n",
        "        for line in f:\n",
        "            yield line.strip()\n",
        "\n",
        "# for line in read_lines(\"myfile.txt\"):\n",
        "    print(line)"
      ],
      "metadata": {
        "id": "3h1jhFgdyWXC"
      },
      "execution_count": 22,
      "outputs": []
    },
    {
      "cell_type": "markdown",
      "source": [
        "# 8. Sort tuples by second element using lambda:"
      ],
      "metadata": {
        "id": "iar5ytx7ygdU"
      }
    },
    {
      "cell_type": "code",
      "source": [
        "data = [(1, 3), (2, 1), (3, 2)]\n",
        "sorted_data = sorted(data, key=lambda x: x[1])\n",
        "print(sorted_data)"
      ],
      "metadata": {
        "colab": {
          "base_uri": "https://localhost:8080/"
        },
        "id": "3aocdmrXyjC9",
        "outputId": "0eb7390f-7438-46b0-8de4-5028d85bb87e"
      },
      "execution_count": 23,
      "outputs": [
        {
          "output_type": "stream",
          "name": "stdout",
          "text": [
            "[(2, 1), (3, 2), (1, 3)]\n"
          ]
        }
      ]
    },
    {
      "cell_type": "markdown",
      "source": [
        "# 9. Convert Celsius to Fahrenheit using map():"
      ],
      "metadata": {
        "id": "RF4H4pBTynFu"
      }
    },
    {
      "cell_type": "code",
      "source": [
        "celsius = [0, 20, 30]\n",
        "fahrenheit = list(map(lambda x: (x * 9/5) + 32, celsius))\n",
        "print(fahrenheit)"
      ],
      "metadata": {
        "colab": {
          "base_uri": "https://localhost:8080/"
        },
        "id": "e8rk0SFhyoe9",
        "outputId": "d59ce0c8-1761-4e5f-add9-68f33ff15f15"
      },
      "execution_count": 24,
      "outputs": [
        {
          "output_type": "stream",
          "name": "stdout",
          "text": [
            "[32.0, 68.0, 86.0]\n"
          ]
        }
      ]
    },
    {
      "cell_type": "markdown",
      "source": [
        "# 10. Remove vowels using filter():"
      ],
      "metadata": {
        "id": "wH36QdlbysIt"
      }
    },
    {
      "cell_type": "code",
      "source": [
        "def remove_vowels(s):\n",
        "    return ''.join(filter(lambda x: x.lower() not in 'aeiou', s))\n",
        "\n",
        "print(remove_vowels(\"Hello World\"))"
      ],
      "metadata": {
        "colab": {
          "base_uri": "https://localhost:8080/"
        },
        "id": "dd-Kld0ryuo4",
        "outputId": "d0a31093-ed0b-43f0-a393-f1723d185eaf"
      },
      "execution_count": 25,
      "outputs": [
        {
          "output_type": "stream",
          "name": "stdout",
          "text": [
            "Hll Wrld\n"
          ]
        }
      ]
    },
    {
      "cell_type": "markdown",
      "source": [
        "# 11. Accounting program using lambda + map:"
      ],
      "metadata": {
        "id": "0LWmQYe0yzEP"
      }
    },
    {
      "cell_type": "code",
      "source": [
        "orders = [\n",
        "    [34587, \"Learning Python\", 4, 40.95],\n",
        "    [98762, \"Programming Java\", 5, 17.50],\n",
        "    [77226, \"Data Science\", 3, 56.00],\n",
        "    [88112, \"AI Basics\", 3, 32.95]\n",
        "]\n",
        "\n",
        "result = list(map(lambda order: (order[0], order[2]*order[3] + (10 if order[2]*order[3] < 100 else 0)), orders))\n",
        "print(result)"
      ],
      "metadata": {
        "colab": {
          "base_uri": "https://localhost:8080/"
        },
        "id": "14WJVvMGy0Q3",
        "outputId": "0996775c-79e6-4f29-c604-20fc96e6a1fa"
      },
      "execution_count": 26,
      "outputs": [
        {
          "output_type": "stream",
          "name": "stdout",
          "text": [
            "[(34587, 163.8), (98762, 97.5), (77226, 168.0), (88112, 108.85000000000001)]\n"
          ]
        }
      ]
    }
  ]
}