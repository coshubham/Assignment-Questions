{
  "nbformat": 4,
  "nbformat_minor": 0,
  "metadata": {
    "colab": {
      "provenance": []
    },
    "kernelspec": {
      "name": "python3",
      "display_name": "Python 3"
    },
    "language_info": {
      "name": "python"
    }
  },
  "cells": [
    {
      "cell_type": "markdown",
      "source": [
        "Q1. Write Python scripts for basic file operations and data processing ?\n",
        "\n",
        "To run this code:\n",
        "```\n",
        "python basic_file.py\n",
        "```\n",
        "\n"
      ],
      "metadata": {
        "id": "XJZGXDO4mInq"
      }
    },
    {
      "cell_type": "code",
      "execution_count": 1,
      "metadata": {
        "colab": {
          "base_uri": "https://localhost:8080/"
        },
        "id": "uGIDuT92mHYU",
        "outputId": "13579cdf-5a0b-4354-fc4b-a406727b7394"
      },
      "outputs": [
        {
          "output_type": "stream",
          "name": "stdout",
          "text": [
            "File Content:\n",
            "Apple\n",
            "Banana\n",
            "Mango\n",
            "\n",
            "Reading Line-by-Line:\n",
            "- Apple\n",
            "- Banana\n",
            "- Mango\n",
            "- Orange\n",
            "- Grapes\n"
          ]
        }
      ],
      "source": [
        "# 1. Create and write to a file\n",
        "file = open(\"data.txt\", \"w\")\n",
        "file.write(\"Apple\\n\")\n",
        "file.write(\"Banana\\n\")\n",
        "file.write(\"Mango\\n\")\n",
        "file.close()\n",
        "\n",
        "# 2. Read the file\n",
        "file = open(\"data.txt\", \"r\")\n",
        "print(\"File Content:\")\n",
        "print(file.read())\n",
        "file.close()\n",
        "\n",
        "# 3. Append more data\n",
        "file = open(\"data.txt\", \"a\")\n",
        "file.write(\"Orange\\n\")\n",
        "file.write(\"Grapes\\n\")\n",
        "file.close()\n",
        "\n",
        "# 4. Read again and process line by line\n",
        "file = open(\"data.txt\", \"r\")\n",
        "print(\"Reading Line-by-Line:\")\n",
        "for line in file:\n",
        "    print(\"- \" + line.strip())\n",
        "file.close()\n",
        "\n"
      ]
    },
    {
      "cell_type": "markdown",
      "source": [
        "Q2. Develop a simple web scraper to extract data from a website?\n",
        "```\n",
        "# FIRST INSTALL THE beautifulsoup4 AND requests\n",
        "pip install beautifulsoup4 requests\n",
        "```\n",
        "\n"
      ],
      "metadata": {
        "id": "RJ2I0bGGmuc3"
      }
    },
    {
      "cell_type": "code",
      "source": [
        "# simple_web_scraper.py\n",
        "import requests\n",
        "from bs4 import BeautifulSoup\n",
        "\n",
        "# Website to scrape\n",
        "url = \"https://quotes.toscrape.com\"\n",
        "\n",
        "# Get the HTML content\n",
        "response = requests.get(url)\n",
        "soup = BeautifulSoup(response.text, \"html.parser\")\n",
        "\n",
        "# Print all quotes on the page\n",
        "print(\"Quotes from Website:\\n\")\n",
        "quotes = soup.find_all(\"span\", class_=\"text\")\n",
        "\n",
        "for quote in quotes:\n",
        "    print(quote.text)\n"
      ],
      "metadata": {
        "colab": {
          "base_uri": "https://localhost:8080/"
        },
        "id": "HZoOpZNknAfQ",
        "outputId": "e48075cc-99f3-4381-d5ed-bf15f72b8de4"
      },
      "execution_count": 2,
      "outputs": [
        {
          "output_type": "stream",
          "name": "stdout",
          "text": [
            "Quotes from Website:\n",
            "\n",
            "“The world as we have created it is a process of our thinking. It cannot be changed without changing our thinking.”\n",
            "“It is our choices, Harry, that show what we truly are, far more than our abilities.”\n",
            "“There are only two ways to live your life. One is as though nothing is a miracle. The other is as though everything is a miracle.”\n",
            "“The person, be it gentleman or lady, who has not pleasure in a good novel, must be intolerably stupid.”\n",
            "“Imperfection is beauty, madness is genius and it's better to be absolutely ridiculous than absolutely boring.”\n",
            "“Try not to become a man of success. Rather become a man of value.”\n",
            "“It is better to be hated for what you are than to be loved for what you are not.”\n",
            "“I have not failed. I've just found 10,000 ways that won't work.”\n",
            "“A woman is like a tea bag; you never know how strong it is until it's in hot water.”\n",
            "“A day without sunshine is like, you know, night.”\n"
          ]
        }
      ]
    }
  ]
}