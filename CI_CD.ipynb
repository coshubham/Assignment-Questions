{
  "nbformat": 4,
  "nbformat_minor": 0,
  "metadata": {
    "colab": {
      "provenance": []
    },
    "kernelspec": {
      "name": "python3",
      "display_name": "Python 3"
    },
    "language_info": {
      "name": "python"
    }
  },
  "cells": [
    {
      "cell_type": "markdown",
      "source": [
        "**Q1. Continuous Integration (CI)** <br>\n",
        " **Task 1: Set Up a CI Pipeline** <br>\n",
        " **Objective:** Set up a basic CI pipeline that builds a project automatically whenever new code is pushed. <br>\n",
        " **Tools:** GitHub Actions, Jenkins, GitLab CI, or CircleCI<br>\n",
        " **Instructions:**\n",
        " * Create a simple application (use Node.js, Python, or Java)\n",
        " * Set up a repository on GitHub or GitLab\n",
        " * Configure a CI tool to automatically build the application whenever new code is pushed to the repository\n",
        " Document each step with screenshots showing the pipeline running.\n",
        "\n",
        " **ANS:** <br>\n",
        " **Step 1: Create a Simple Application**\n",
        "\n",
        "Let’s use Node.js as an example (you can also use Python or Java).\n",
        "\n",
        "1. Install Node.js on your system.\n",
        "\n",
        "2. Create a folder and initialize a project:"
      ],
      "metadata": {
        "id": "-xwguUiHbnTS"
      }
    },
    {
      "cell_type": "code",
      "execution_count": null,
      "metadata": {
        "id": "zqnAMFjybePs"
      },
      "outputs": [],
      "source": [
        "mkdir ci-demo\n",
        "cd ci-demo\n",
        "npm init -y\n",
        "\n",
        "# 2. Create a simple index.js\n",
        "console.log(\"🚀 CI Pipeline Test Running Successfully!\");\n",
        "\n",
        "# 3. Add a test script in package.json\n",
        "\"scripts\": {\n",
        "  \"test\": \"echo \\\"Running tests...\\\" && exit 0\"\n",
        "}"
      ]
    },
    {
      "cell_type": "markdown",
      "source": [
        "**Step 2: Push to GitHub**\n",
        "\n",
        "1. Create a new repository on GitHub (e.g., ci-demo).\n",
        "\n",
        "2. Push your code:"
      ],
      "metadata": {
        "id": "LFBpTBsKdAmE"
      }
    },
    {
      "cell_type": "code",
      "source": [
        "git init\n",
        "git remote add origin https://github.com/<your-username>/ci-demo.git\n",
        "git add .\n",
        "git commit -m \"Initial commit with simple app\"\n",
        "git push -u origin main"
      ],
      "metadata": {
        "id": "cslhjlbGdQ7l"
      },
      "execution_count": null,
      "outputs": []
    },
    {
      "cell_type": "markdown",
      "source": [
        "**Step 3: Configure GitHub Actions (CI Tool)**\n",
        "\n",
        "1. In your GitHub repo, go to Actions → New Workflow → Node.js.\n",
        "\n",
        "2. Or manually create a workflow file: .github/workflows/ci.yml"
      ],
      "metadata": {
        "id": "qR7AF2U2dUEE"
      }
    },
    {
      "cell_type": "code",
      "source": [
        "name: CI Pipeline\n",
        "\n",
        "on:\n",
        "  push:\n",
        "    branches: [ \"main\" ]\n",
        "  pull_request:\n",
        "    branches: [ \"main\" ]\n",
        "\n",
        "jobs:\n",
        "  build:\n",
        "    runs-on: ubuntu-latest\n",
        "\n",
        "    steps:\n",
        "      - name: Checkout repository\n",
        "        uses: actions/checkout@v3\n",
        "\n",
        "      - name: Set up Node.js\n",
        "        uses: actions/setup-node@v3\n",
        "        with:\n",
        "          node-version: '18'\n",
        "\n",
        "      - name: Install dependencies\n",
        "        run: npm install\n",
        "\n",
        "      - name: Run tests\n",
        "        run: npm test\n"
      ],
      "metadata": {
        "id": "cnL9TkjPdsqP"
      },
      "execution_count": null,
      "outputs": []
    },
    {
      "cell_type": "markdown",
      "source": [
        "**Step 4: Push and Watch the Pipeline**\n",
        "\n",
        "* Commit and push ```.github/workflows/ci.yml```\n",
        "\n",
        "* Go to GitHub → Actions tab.\n",
        "\n",
        "* You’ll see your pipeline triggered automatically when you push code."
      ],
      "metadata": {
        "id": "XNda8G0heL9q"
      }
    },
    {
      "cell_type": "markdown",
      "source": [
        "**Q2. Jenkins**<br>\n",
        "**Task 2: Automated Build with Jenkins**<br>\n",
        "**Objective:** Install Jenkins and configure an automated build job.<br> **Tools:** Jenkins, Docker (optional)<br>\n",
        "**Instructions:**\n",
        "*  Install Jenkins on your local machine or use a cloud platform (like AWS, Azure)\n",
        "* Set up a simple job that clones a Git repository and builds the project (e.g., a Java project using Maven or a Node.js project).\n",
        "* Set up a trigger to run the job automatically when new code is pushed to the repository.\n",
        "* Take screenshots of the Jenkins job and the build logs to demonstrate success.\n",
        "\n",
        "**Ans:**<br>\n",
        "**Step 1: Install Jenkins**\n",
        "\n",
        "You can install Jenkins either locally or using Docker.\n",
        "\n",
        "**Using Docker:**\n",
        "```\n",
        "docker run -p 8080:8080 -p 50000:50000 jenkins/jenkins:lts\n",
        "```\n",
        "\n",
        "* Access Jenkins at: http://localhost:8080\n",
        "\n",
        "* Get the initial admin password:\n",
        "```\n",
        "docker exec -it <container_id> cat /var/jenkins_home/secrets/initialAdminPassword\n",
        "```\n",
        "**Step 2: Prepare a Simple Node.js Project**\n",
        "\n",
        "1. Create a Node.js app:"
      ],
      "metadata": {
        "id": "lQJhSIHhedgM"
      }
    },
    {
      "cell_type": "code",
      "source": [
        "mkdir jenkins-demo && cd jenkins-demo\n",
        "npm init -y\n",
        "echo 'console.log(\"Jenkins Build Successful 🚀\");' > index.js\n",
        "\n",
        "# 2. Add a test script in package.json:\n",
        "\"scripts\": {\n",
        "  \"test\": \"echo \\\"Running tests...\\\" && exit 0\"\n",
        "}\n",
        "\n",
        "# 3. Push the project to GitHub:\n",
        "git init\n",
        "git add .\n",
        "git commit -m \"Initial Jenkins demo app\"\n",
        "git branch -M main\n",
        "git remote add origin https://github.com/<username>/jenkins-demo.git\n",
        "git push -u origin main"
      ],
      "metadata": {
        "id": "-sCmMnDRg63H"
      },
      "execution_count": null,
      "outputs": []
    },
    {
      "cell_type": "markdown",
      "source": [
        "**Step 3: Configure Jenkins Job**\n",
        "1. In Jenkins dashboard → New Item → Freestyle Project → Name it node-ci-build.\n",
        "2. Source Code Management → Select Git → Add repo URL (https://github.com/<username>/jenkins-demo.git).\n",
        "3. Build Triggers → Check GitHub hook trigger for GITScm polling.\n",
        "4. Build Steps → Execute Shell → Add commands:\n",
        "```\n",
        "npm install\n",
        "npm test\n",
        "node index.js\n",
        "```\n",
        "\n",
        "**Step 4: Set Up Webhook for Auto Trigger**\n",
        "\n",
        "* Go to GitHub Repo → Settings → Webhooks → Add Webhook\n",
        "\n",
        "  * Payload URL:\n",
        "  ```\n",
        "  http://<your-public-ip>:8080/github-webhook/\n",
        "  ```\n",
        "  * Content type: application/json\n",
        "\n",
        "**Step 5: Verify Build**\n",
        "\n",
        "* Push new code to GitHub:"
      ],
      "metadata": {
        "id": "bQKyb-_-hi4h"
      }
    },
    {
      "cell_type": "code",
      "source": [
        "echo 'console.log(\"New build triggered 🚀\");' > index.js\n",
        "git add .\n",
        "git commit -m \"Trigger Jenkins build\"\n",
        "git push origin main\n"
      ],
      "metadata": {
        "id": "HX6UH5B2iLCO"
      },
      "execution_count": null,
      "outputs": []
    },
    {
      "cell_type": "markdown",
      "source": [
        "Q3. Testing Frameworks and Practices\n",
        " **Task 3: Write Unit Tests for an Application** <br>\n",
        "\n",
        " **Objective:** Write unit tests for a simple application and integrate them into a CI pipeline. <br>\n",
        " **Tools:** Jest (JavaScript), JUnit (Java), pytest (Python)<br>\n",
        "\n",
        "**Instructions:**\n",
        "* Create a small application (e.g., a calculator, to-do list, or API)\n",
        "* Write unit tests for the core functions (e.g., add, delete, or update functions)\n",
        "* Integrate these tests into a CI pipeline using GitHub Actions, Jenkins, or GitLab CI\n",
        "* Document your work with screenshots showing the tests running in the CI pipeline."
      ],
      "metadata": {
        "id": "buH06kZvoQ3m"
      }
    },
    {
      "cell_type": "markdown",
      "source": [
        "**Step 1: Create a Small Application (Calculator Example)**"
      ],
      "metadata": {
        "id": "zlngJdGhpBGN"
      }
    },
    {
      "cell_type": "code",
      "source": [
        "function add(a, b) {\n",
        "  return a + b;\n",
        "}\n",
        "\n",
        "function subtract(a, b) {\n",
        "  return a - b;\n",
        "}\n",
        "\n",
        "function multiply(a, b) {\n",
        "  return a * b;\n",
        "}\n",
        "\n",
        "function divide(a, b) {\n",
        "  if (b === 0) throw new Error(\"Cannot divide by zero\");\n",
        "  return a / b;\n",
        "}\n",
        "\n",
        "module.exports = { add, subtract, multiply, divide };\n"
      ],
      "metadata": {
        "id": "tpGe1FwEpEYb"
      },
      "execution_count": null,
      "outputs": []
    },
    {
      "cell_type": "markdown",
      "source": [
        "**Step 2: Write Unit Tests Using Jest**\n",
        "\n",
        "calculator.test.js"
      ],
      "metadata": {
        "id": "mmMNxYy8pHq8"
      }
    },
    {
      "cell_type": "code",
      "source": [
        "const { add, subtract, multiply, divide } = require('./calculator');\n",
        "\n",
        "test('adds two numbers', () => {\n",
        "  expect(add(2, 3)).toBe(5);\n",
        "});\n",
        "\n",
        "test('subtracts two numbers', () => {\n",
        "  expect(subtract(5, 2)).toBe(3);\n",
        "});\n",
        "\n",
        "test('multiplies two numbers', () => {\n",
        "  expect(multiply(3, 4)).toBe(12);\n",
        "});\n",
        "\n",
        "test('divides two numbers', () => {\n",
        "  expect(divide(10, 2)).toBe(5);\n",
        "});\n",
        "\n",
        "test('throws error when dividing by zero', () => {\n",
        "  expect(() => divide(10, 0)).toThrow(\"Cannot divide by zero\");\n",
        "});\n"
      ],
      "metadata": {
        "id": "YzNtiqKBpK9L"
      },
      "execution_count": null,
      "outputs": []
    },
    {
      "cell_type": "markdown",
      "source": [
        "**Step 3: Setup Jest in Project**\n",
        "Initialize Node.js project:"
      ],
      "metadata": {
        "id": "ZAvgHVedpOM2"
      }
    },
    {
      "cell_type": "code",
      "source": [
        "npm init -y\n",
        "npm install jest --save-dev\n",
        "\n",
        "# Update package.json:\n",
        "\"scripts\": {\n",
        "  \"test\": \"jest\"\n",
        "}\n"
      ],
      "metadata": {
        "id": "tPiJLmETpSVG"
      },
      "execution_count": null,
      "outputs": []
    },
    {
      "cell_type": "markdown",
      "source": [
        "**Step 4: Integrate Tests into CI (GitHub Actions)**\n",
        "\n",
        "Create workflow file: `.github/workflows/ci.yml`"
      ],
      "metadata": {
        "id": "CgCS6wohplSw"
      }
    },
    {
      "cell_type": "code",
      "source": [
        "name: CI Pipeline with Tests\n",
        "\n",
        "on:\n",
        "  push:\n",
        "    branches: [ \"main\" ]\n",
        "  pull_request:\n",
        "    branches: [ \"main\" ]\n",
        "\n",
        "jobs:\n",
        "  build:\n",
        "    runs-on: ubuntu-latest\n",
        "\n",
        "    steps:\n",
        "      - name: Checkout code\n",
        "        uses: actions/checkout@v3\n",
        "\n",
        "      - name: Setup Node.js\n",
        "        uses: actions/setup-node@v3\n",
        "        with:\n",
        "          node-version: '18'\n",
        "\n",
        "      - name: Install dependencies\n",
        "        run: npm install\n",
        "\n",
        "      - name: Run unit tests\n",
        "        run: npm test"
      ],
      "metadata": {
        "id": "i3cWyxj0pp3H"
      },
      "execution_count": null,
      "outputs": []
    },
    {
      "cell_type": "markdown",
      "source": [
        "**Step 5: Run and Verify**\n",
        "\n",
        "1. Push code to GitHub.\n",
        "\n",
        "2. GitHub Actions → Actions tab → Workflow will run.\n",
        "![Screenshot 2025-09-06 114219.png](data:image/png;base64,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)\n"
      ],
      "metadata": {
        "id": "6no_1mxHpvia"
      }
    },
    {
      "cell_type": "markdown",
      "source": [
        "**Q4. Integration Testing**\n",
        " **Task 4: Set Up Integration Testing for an API** <br>\n",
        " **Objective:** Write integration tests for a REST API and automate them in a CI pipeline.<br>\n",
        " **Tools:**\n",
        "  Postman, Newman, or Selenium (for web UI testing)<br>\n",
        " **Instructions:**\n",
        "* Create a simple REST API (using Node.js, Python Flask, or Java Spring Boot)\n",
        "* Write integration tests to check the interaction between different components (e.g., database and API)\n",
        "* Set up the tests to run automatically in a Jenkins or GitLab CI pipeline after each deployment to a staging\n",
        "environment\n",
        "* Capture screenshots showing successful test execution.\n",
        "\n",
        "**Ans:**<br>\n",
        "**Step 1: Create a Simple REST API**\n"
      ],
      "metadata": {
        "id": "YkxcCojnqHOi"
      }
    },
    {
      "cell_type": "code",
      "source": [
        "# server.js\n",
        "\n",
        "const express = require(\"express\");\n",
        "const app = express();\n",
        "app.use(express.json());\n",
        "\n",
        "let todos = [];\n",
        "\n",
        "// GET all todos\n",
        "app.get(\"/todos\", (req, res) => {\n",
        "  res.json(todos);\n",
        "});\n",
        "\n",
        "// POST a new todo\n",
        "app.post(\"/todos\", (req, res) => {\n",
        "  const todo = { id: todos.length + 1, task: req.body.task };\n",
        "  todos.push(todo);\n",
        "  res.status(201).json(todo);\n",
        "});\n",
        "\n",
        "// DELETE a todo\n",
        "app.delete(\"/todos/:id\", (req, res) => {\n",
        "  const id = parseInt(req.params.id);\n",
        "  todos = todos.filter((t) => t.id !== id);\n",
        "  res.status(204).send();\n",
        "});\n",
        "\n",
        "const PORT = 3000;\n",
        "app.listen(PORT, () => console.log(`API running on port ${PORT}`));\n"
      ],
      "metadata": {
        "id": "RcT1oKGjs88N"
      },
      "execution_count": null,
      "outputs": []
    },
    {
      "cell_type": "markdown",
      "source": [
        "**Run the API:**\n",
        "\n",
        "```\n",
        "npm init -y\n",
        "npm install express\n",
        "node server.js\n",
        "```\n",
        "\n",
        "**Step 2: Write Integration Tests in Postman**\n",
        "\n",
        "1. Open Postman → Create a Collection (e.g., Todo API Tests).\n",
        "\n",
        "2. Add requests:\n",
        "\n",
        "  * GET /todos → expect status 200.\n",
        "\n",
        "  * POST /todos → expect status 201 and returned object contains \"task\".\n",
        "\n",
        "   * DELETE /todos/:id → expect status 204.\n",
        "\n",
        "3. Export the collection as todo-tests.postman_collection.json.\n",
        "\n",
        "**Step 3: Run Tests with Newman (CLI)**\n",
        "\n",
        "1. Install Newman:\n",
        "```\n",
        "npm install -g newman\n",
        "```\n",
        "\n",
        "2 .Run tests:\n",
        "```\n",
        "newman run todo-tests postman_collection.json\n",
        "```\n",
        "\n",
        "Step 4: Automate Integration Tests in Jenkins\n"
      ],
      "metadata": {
        "id": "LSpk6E8stCwh"
      }
    },
    {
      "cell_type": "code",
      "source": [
        "# Jenkins Pipeline (Jenkinsfile)\n",
        "pipeline {\n",
        "    agent any\n",
        "\n",
        "    stages {\n",
        "        stage('Checkout') {\n",
        "            steps {\n",
        "                git 'https://github.com/<username>/todo-api.git'\n",
        "            }\n",
        "        }\n",
        "\n",
        "        stage('Install Dependencies') {\n",
        "            steps {\n",
        "                sh 'npm install'\n",
        "            }\n",
        "        }\n",
        "\n",
        "        stage('Start API') {\n",
        "            steps {\n",
        "                sh 'nohup node server.js &'\n",
        "                sh 'sleep 5'\n",
        "            }\n",
        "        }\n",
        "\n",
        "        stage('Run Integration Tests') {\n",
        "            steps {\n",
        "                sh 'newman run todo-tests.postman_collection.json'\n",
        "            }\n",
        "        }\n",
        "    }\n",
        "}\n"
      ],
      "metadata": {
        "id": "WGAAQ-wzuDk9"
      },
      "execution_count": null,
      "outputs": []
    },
    {
      "cell_type": "markdown",
      "source": [
        "**Step 5: Verify Successful Tests**\n",
        "\n",
        "![image.png](data:image/png;base64,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)"
      ],
      "metadata": {
        "id": "Cj6VtLu8uOnI"
      }
    },
    {
      "cell_type": "markdown",
      "source": [
        "**Q5. Performance Testing**<br>\n",
        " **Task 5: Automate Performance Testing in a CI/CD Pipeline** <br>\n",
        " **Objective:** Automate performance testing using tools like Apache JMeter or K6.<br>\n",
        "** Tools:** JMeter, K6, Jenkins, or GitLab CI<br>\n",
        " **Instructions:**\n",
        "* Create a simple web application (or use an existing one).\n",
        "* Write a JMeter or K6 test script to load test the application\n",
        "* Automate the performance test in your CI/CD pipeline to run after every build\n",
        "* Provide screenshots showing the performance results and graphs from the tool.\n",
        "\n",
        "**Ans:**\n",
        "**Step 1: Create a Simple Web Application**\n"
      ],
      "metadata": {
        "id": "Vq5ZxhBDuhuz"
      }
    },
    {
      "cell_type": "code",
      "source": [
        "# app.js\n",
        "\n",
        "const express = require(\"express\");\n",
        "const app = express();\n",
        "\n",
        "app.get(\"/\", (req, res) => {\n",
        "  res.send(\"Hello, Performance Testing 🚀\");\n",
        "});\n",
        "\n",
        "const PORT = 3000;\n",
        "app.listen(PORT, () => console.log(`App running at http://localhost:${PORT}`));\n",
        "\n",
        "# Run the app:\n",
        "npm init -y\n",
        "npm install express\n",
        "node app.js"
      ],
      "metadata": {
        "id": "JDqX0jhrvXzO"
      },
      "execution_count": null,
      "outputs": []
    },
    {
      "cell_type": "markdown",
      "source": [
        "**Step 2: Write a K6 Test Script**"
      ],
      "metadata": {
        "id": "_Gy3r6Zrvi1I"
      }
    },
    {
      "cell_type": "code",
      "source": [
        "# load-test.js\n",
        "\n",
        "import http from 'k6/http';\n",
        "import { sleep, check } from 'k6';\n",
        "\n",
        "export const options = {\n",
        "  vus: 10,         // Virtual users\n",
        "  duration: '30s', // Test duration\n",
        "};\n",
        "\n",
        "export default function () {\n",
        "  const res = http.get('http://localhost:3000/');\n",
        "  check(res, { 'status was 200': (r) => r.status === 200 });\n",
        "  sleep(1);\n",
        "}\n",
        "\n",
        "# Run command\n",
        "k6 run load-test.js\n"
      ],
      "metadata": {
        "id": "zY8SgIhJvll3"
      },
      "execution_count": null,
      "outputs": []
    },
    {
      "cell_type": "markdown",
      "source": [
        "**Step 3: Automate Performance Testing in Jenkins**\n"
      ],
      "metadata": {
        "id": "ROf-_NI7vvHx"
      }
    },
    {
      "cell_type": "code",
      "source": [
        "pipeline {\n",
        "    agent any\n",
        "\n",
        "    stages {\n",
        "        stage('Checkout') {\n",
        "            steps {\n",
        "                git 'https://github.com/<username>/performance-demo.git'\n",
        "            }\n",
        "        }\n",
        "\n",
        "        stage('Install Dependencies') {\n",
        "            steps {\n",
        "                sh 'npm install'\n",
        "            }\n",
        "        }\n",
        "\n",
        "        stage('Start App') {\n",
        "            steps {\n",
        "                sh 'nohup node app.js &'\n",
        "                sh 'sleep 5'\n",
        "            }\n",
        "        }\n",
        "\n",
        "        stage('Run Performance Tests') {\n",
        "            steps {\n",
        "                sh 'k6 run load-test.js'\n",
        "            }\n",
        "        }\n",
        "    }\n",
        "}\n",
        "\n",
        "# OUTPUT\n",
        "running (30s), 10/10 VUs, 300 complete and 0 interrupted iterations\n",
        "default ✓ [======================================] 10 VUs  30s\n",
        "\n",
        "     checks.........................: 100.00% ✓ 300 ✗ 0\n",
        "     http_req_duration..............: avg=50ms   min=30ms  med=45ms  max=90ms\n",
        "     http_reqs......................: 300 requests in 30s (10 rps)\n"
      ],
      "metadata": {
        "id": "dK5LaYUlv0KJ"
      },
      "execution_count": null,
      "outputs": []
    },
    {
      "cell_type": "markdown",
      "source": [
        "**Q6. Security Testing**<br>\n",
        "** Task 6: Implement Basic Security Testing in a CI Pipeline**<br>\n",
        "**Objective:** Integrate security testing into the CI pipeline using tools like OWASP ZAP or SonarQube.<br>\n",
        "** Tools: **OWASP ZAP, SonarQube, Jenkins, GitLab CI<br>\n",
        " **Instructions:**\n",
        " * Set up a simple web application.\n",
        "\n",
        " * Use OWASP ZAP to scan the application for vulnerabilities or use SonarQube for static code analysis.\n",
        " * Automate these tests in the CI pipeline to run every time code is pushed.\n",
        " * Take screenshots showing any vulnerabilities or issues detected by\n",
        "the tool.\n",
        "\n",
        "**Ans:**<br>\n",
        "**Step 1: Create a Simple Web Application**"
      ],
      "metadata": {
        "id": "Uq9b7bk9wBVK"
      }
    },
    {
      "cell_type": "code",
      "source": [
        "# app.js\n",
        "const express = require(\"express\");\n",
        "const app = express();\n",
        "\n",
        "app.get(\"/\", (req, res) => {\n",
        "  res.send(\"Welcome to Security Testing Demo 🚀\");\n",
        "});\n",
        "\n",
        "app.listen(3000, () => console.log(\"App running on http://localhost:3000\"));\n",
        "\n",
        "# Run the app:npm init -y\n",
        "npm install express\n",
        "node app.js\n"
      ],
      "metadata": {
        "id": "LLWT4ZQZJXM3"
      },
      "execution_count": null,
      "outputs": []
    },
    {
      "cell_type": "markdown",
      "source": [
        "**Step 2: Set Up SonarQube for Static Code Analysis**\n",
        "\n",
        "**Run SonarQube with Docker:**\n",
        "\n",
        "`docker run -d --name sonarqube -p 9000:9000 sonarqube:lts`\n",
        "\n",
        "\n",
        "Open at: http://localhost:9000\n",
        "\n",
        "**Default login: admin / admin**\n",
        "\n",
        "**SonarQube Scanner Setup in Node.js Project:**\n",
        "\n",
        "**1. Install scanner:**\n",
        "```\n",
        "npm install sonar-scanner --save-dev\n",
        "```\n",
        "**2. Add sonar-project.properties file:**\n",
        "```\n",
        "sonar.projectKey=security-demo\n",
        "sonar.projectName=Security Demo App\n",
        "sonar.sources=.\n",
        "sonar.host.url=http://localhost:9000\n",
        "sonar.login=admin\n",
        "```\n",
        "\n",
        "Run analysis:\n",
        "```\n",
        "npx sonar-scanner\n",
        "```\n",
        "\n",
        "**Step 3: Set Up OWASP ZAP for Dynamic Testing**\n",
        "\n",
        "**Run OWASP ZAP with Docker:**\n",
        "```\n",
        "docker run -t owasp/zap2docker-stable zap-baseline.py -t http://localhost:3000 -r zap_report.html\n",
        "```\n",
        "\n",
        "* This generates a vulnerability scan report (zap_report.html).\n",
        "\n",
        "**Step 4: Automate Security Testing in Jenkins Pipeline**\n",
        "\n",
        "Jenkinsfile"
      ],
      "metadata": {
        "id": "oBrWHI5gJg6-"
      }
    },
    {
      "cell_type": "code",
      "source": [
        "pipeline {\n",
        "    agent any\n",
        "\n",
        "    stages {\n",
        "        stage('Checkout') {\n",
        "            steps {\n",
        "                git 'https://github.com/<username>/security-demo.git'\n",
        "            }\n",
        "        }\n",
        "\n",
        "        stage('Install Dependencies') {\n",
        "            steps {\n",
        "                sh 'npm install'\n",
        "            }\n",
        "        }\n",
        "\n",
        "        stage('Start App') {\n",
        "            steps {\n",
        "                sh 'nohup node app.js &'\n",
        "                sh 'sleep 5'\n",
        "            }\n",
        "        }\n",
        "\n",
        "        stage('Static Analysis with SonarQube') {\n",
        "            steps {\n",
        "                sh 'npx sonar-scanner'\n",
        "            }\n",
        "        }\n",
        "\n",
        "        stage('Dynamic Scan with OWASP ZAP') {\n",
        "            steps {\n",
        "                sh 'docker run --network=host -v $WORKSPACE:/zap/wrk/:rw owasp/zap2docker-stable zap-baseline.py -t http://localhost:3000 -r zap_report.html'\n",
        "            }\n",
        "        }\n",
        "    }\n",
        "\n",
        "    post {\n",
        "        always {\n",
        "            archiveArtifacts artifacts: 'zap_report.html', fingerprint: true\n",
        "        }\n",
        "    }\n",
        "}\n"
      ],
      "metadata": {
        "id": "bkSWH-EJKVkb"
      },
      "execution_count": null,
      "outputs": []
    },
    {
      "cell_type": "markdown",
      "source": [
        "**Step 5: Verify Security Testing**\n",
        "\n",
        "**SonarQube Results:**\n",
        "\n",
        "* Shows code smells, vulnerabilities, bugs.\n",
        "\n",
        "**OWASP ZAP Report (zap_report.html):**\n",
        "\n",
        "* Highlights SQL injection, XSS, missing headers, etc.\n",
        "\n",
        "Jenkins Console Output:\n",
        "```\n",
        "[SonarQube] Analysis successful: 2 code smells, 0 vulnerabilities\n",
        "[OWASP ZAP] Passive scan complete: Found 1 alert - Missing X-Frame-Options header\n",
        "Finished: SUCCESS\n",
        "\n",
        "```"
      ],
      "metadata": {
        "id": "_69QyQv9Kcn1"
      }
    },
    {
      "cell_type": "markdown",
      "source": [
        "**Q7. Continuous Deployment (CD)** <br>\n",
        "\n",
        " **Task 7: Automate Deployment to Staging Environment** <br>\n",
        "** Objective:** Automate the deployment of an application to a staging environment after a successful build and test.<br>\n",
        " **Tools:** Jenkins, AWS CodeDeploy, Docker, Kubernetes<br>\n",
        " **Instructions:**\n",
        " * Create a simple application (Node.js, Python, or Java)\n",
        " AWS, Docker, or Kubernetes)\n",
        " * Set up a CI pipeline that builds the application, runs tests, and deploys it to a staging environment (using\n",
        "* Document the pipeline setup, and take screenshots of the deployment logs\n",
        " * Ensure the application is live and accessible from the staging environment.\n",
        "\n",
        "**Ans:**\n",
        "**Step 1: Sample Application (Node.js Example)**"
      ],
      "metadata": {
        "id": "56c1QyITKwYj"
      }
    },
    {
      "cell_type": "code",
      "source": [
        "# app.js\n",
        "\n",
        "const express = require('express');\n",
        "const app = express();\n",
        "const PORT = process.env.PORT || 3000;\n",
        "\n",
        "app.get('/', (req, res) => {\n",
        "  res.send(\"🚀 Hello from Continuous Deployment Pipeline - Staging Environment!\");\n",
        "});\n",
        "\n",
        "app.listen(PORT, () => {\n",
        "  console.log(`App running on port ${PORT}`);\n",
        "});\n",
        "\n",
        "# package.json\n",
        "{\n",
        "  \"name\": \"cd-demo\",\n",
        "  \"version\": \"1.0.0\",\n",
        "  \"main\": \"app.js\",\n",
        "  \"scripts\": {\n",
        "    \"start\": \"node app.js\",\n",
        "    \"test\": \"echo \\\"Running Tests...\\\" && exit 0\"\n",
        "  },\n",
        "  \"dependencies\": {\n",
        "    \"express\": \"^4.18.2\"\n",
        "  }\n",
        "}\n",
        "\n"
      ],
      "metadata": {
        "id": "Srpoim3lL9cI"
      },
      "execution_count": null,
      "outputs": []
    },
    {
      "cell_type": "markdown",
      "source": [
        "**Step 2: Dockerize the App**"
      ],
      "metadata": {
        "id": "-jaNuU2AMHWo"
      }
    },
    {
      "cell_type": "code",
      "source": [
        "# Dockerfile\n",
        "# Use Node.js image\n",
        "FROM node:18\n",
        "\n",
        "WORKDIR /usr/src/app\n",
        "\n",
        "COPY package*.json ./\n",
        "RUN npm install\n",
        "\n",
        "COPY . .\n",
        "\n",
        "EXPOSE 3000\n",
        "CMD [\"npm\", \"start\"]\n",
        "\n"
      ],
      "metadata": {
        "id": "6vfe7X3FMUAb"
      },
      "execution_count": null,
      "outputs": []
    },
    {
      "cell_type": "markdown",
      "source": [
        "**Step 3: Jenkins Pipeline (CD)**"
      ],
      "metadata": {
        "id": "KxVl6KiKMZvz"
      }
    },
    {
      "cell_type": "code",
      "source": [
        "# Jenkinsfile\n",
        "pipeline {\n",
        "    agent any\n",
        "\n",
        "    environment {\n",
        "        DOCKER_IMAGE = \"shubham/cd-demo:latest\"\n",
        "        STAGING_SERVER = \"ubuntu@<STAGING_SERVER_IP>\"\n",
        "        APP_PATH = \"/home/ubuntu/cd-demo\"\n",
        "    }\n",
        "\n",
        "    stages {\n",
        "        stage('Checkout') {\n",
        "            steps {\n",
        "                git 'https://github.com/your-repo/cd-demo.git'\n",
        "            }\n",
        "        }\n",
        "\n",
        "        stage('Build') {\n",
        "            steps {\n",
        "                sh 'docker build -t $DOCKER_IMAGE .'\n",
        "            }\n",
        "        }\n",
        "\n",
        "        stage('Test') {\n",
        "            steps {\n",
        "                sh 'npm test'\n",
        "            }\n",
        "        }\n",
        "\n",
        "        stage('Push to DockerHub') {\n",
        "            steps {\n",
        "                withCredentials([usernamePassword(credentialsId: 'dockerhub-credentials',\n",
        "                                                 usernameVariable: 'DOCKER_USER',\n",
        "                                                 passwordVariable: 'DOCKER_PASS')]) {\n",
        "                    sh 'echo $DOCKER_PASS | docker login -u $DOCKER_USER --password-stdin'\n",
        "                    sh 'docker push $DOCKER_IMAGE'\n",
        "                }\n",
        "            }\n",
        "        }\n",
        "\n",
        "        stage('Deploy to Staging') {\n",
        "            steps {\n",
        "                sshagent(['staging-server-ssh']) {\n",
        "                    sh \"\"\"\n",
        "                    ssh $STAGING_SERVER \"docker pull $DOCKER_IMAGE && docker stop cd-demo || true && docker rm cd-demo || true && docker run -d --name cd-demo -p 3000:3000 $DOCKER_IMAGE\"\n",
        "                    \"\"\"\n",
        "                }\n",
        "            }\n",
        "        }\n",
        "    }\n",
        "\n",
        "    post {\n",
        "        success {\n",
        "            echo \"✅ Deployment Successful! Application is live at http://<STAGING_SERVER_IP>:3000\"\n",
        "        }\n",
        "        failure {\n",
        "            echo \"❌ Deployment Failed!\"\n",
        "        }\n",
        "    }\n",
        "}\n"
      ],
      "metadata": {
        "id": "wVExtgomMdpT"
      },
      "execution_count": null,
      "outputs": []
    },
    {
      "cell_type": "markdown",
      "source": [
        "**Step 4: Jenkins Setup**\n",
        "\n",
        "1. Install plugins:\n",
        "\n",
        "   * Docker Pipeline\n",
        "\n",
        "   * SSH Agent\n",
        "\n",
        "2. Add credentials:\n",
        "\n",
        "   * DockerHub credentials (dockerhub-credentials)\n",
        "\n",
        "   * SSH Key for staging server (staging-server-ssh)\n",
        "\n",
        "3. Configure Jenkins pipeline job using the Jenkinsfile.\n",
        "\n",
        "**Step 5: Staging Environment Setup**\n",
        "\n",
        "On your staging server (EC2/VM/K8s):\n",
        "\n",
        "```\n",
        "# Install Docker\n",
        "sudo apt update && sudo apt install -y docker.io\n",
        "\n",
        "# Allow Jenkins to connect\n",
        "ssh-keygen -t rsa\n",
        "```"
      ],
      "metadata": {
        "id": "tbYjA6peMjbL"
      }
    }
  ]
}