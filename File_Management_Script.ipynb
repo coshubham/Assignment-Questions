{
  "nbformat": 4,
  "nbformat_minor": 0,
  "metadata": {
    "colab": {
      "provenance": []
    },
    "kernelspec": {
      "name": "python3",
      "display_name": "Python 3"
    },
    "language_info": {
      "name": "python"
    }
  },
  "cells": [
    {
      "cell_type": "markdown",
      "source": [
        "Task 1: File Management Script\n",
        "\n",
        "Write a Bash script that:\n",
        "- Creates a directory named \"backup\" in the user's home directory.\n",
        "- Copies all .txt files from the current directory into the \"backup\" directory.\n",
        "- Appends the current date and time to the filenames of the copied files."
      ],
      "metadata": {
        "id": "006a3ySYCGje"
      }
    },
    {
      "cell_type": "code",
      "execution_count": null,
      "metadata": {
        "id": "jYktbjZNB1hb"
      },
      "outputs": [],
      "source": [
        "#!/bin/bash\n",
        "\n",
        "# created floder\n",
        "mkdir ~/backup\n",
        "# Get current timestamp\n",
        "timestamp=$(date +\"%Y%m%d_%H%M%S\")\n",
        "\n",
        "# Copy all .txt files with timestamp in the name\n",
        "for file in *.txt; do\n",
        "  cp \"$file\" ~/backup/\"${file%.txt}_$timestamp.txt\"\n",
        "done"
      ]
    },
    {
      "cell_type": "markdown",
      "source": [
        "Task 2: System Health Check\n",
        "\n",
        "Create a script that:\n",
        "- Checks the system's CPU and memory usage.\n",
        "- Reports if the CPU usage is above 80% or if the available memory is below 20%.\n",
        "- Logs the results to a file named system_health.log."
      ],
      "metadata": {
        "id": "NY7XJP8iGLGq"
      }
    },
    {
      "cell_type": "code",
      "source": [
        "#!/bin/bash\n",
        "\n",
        "cpu=$(top -bn1 | grep \"Cpu(s)\" | awk '{print 100 - $8}')\n",
        "mem=$(free | awk '/Mem/ {printf \"%.0f\", $7/$2 * 100}')\n",
        "\n",
        "echo \"---- $(date) ----\" >> system_health.log\n",
        "echo \"CPU: $cpu% | Free Mem: $mem%\" >> system_health.log\n",
        "\n",
        "[ \"${cpu%.*}\" -gt 80 ] && echo \"High CPU Usage!\" >> system_health.log\n",
        "[ \"$mem\" -lt 20 ] && echo \"Low Memory!\" >> system_health.log\n",
        "echo \"\" >> system_health.log"
      ],
      "metadata": {
        "id": "GjR5TWp7IdMt"
      },
      "execution_count": null,
      "outputs": []
    },
    {
      "cell_type": "markdown",
      "source": [
        "Task 3: User Account Management\n",
        "\n",
        "Write a script that:\n",
        "- Reads a list of usernames from a file (e.g., user_list.txt).\n",
        "- Creates a new user for each username.\n",
        "- Generates a random password for each user and saves the username and password to a file named\n",
        "credentials.txt.\n",
        "\n",
        "To Run this command use sudo:\n",
        "```\n",
        "sudo bash create_users.sh\n",
        "```\n",
        "\n"
      ],
      "metadata": {
        "id": "QSdLwRRBJN0-"
      }
    },
    {
      "cell_type": "code",
      "source": [
        "#!/bin/bash\n",
        "\n",
        "# Clear or create the credentials file\n",
        "> credentials.txt\n",
        "\n",
        "# Read each line (username) from user_list.txt\n",
        "while read user; do\n",
        "  # Generate a random password\n",
        "  password=$(openssl rand -base64 8)\n",
        "\n",
        "  # Create the user\n",
        "  sudo useradd \"$user\"\n",
        "\n",
        "  # Set the password for the user\n",
        "  echo \"$user:$password\" | sudo chpasswd\n",
        "\n",
        "  # Save username and password to credentials.txt\n",
        "  echo \"$user $password\" >> credentials.txt\n",
        "done < user_list.txt\n"
      ],
      "metadata": {
        "id": "PZPnSKIjJT33"
      },
      "execution_count": null,
      "outputs": []
    },
    {
      "cell_type": "markdown",
      "source": [
        "Task 4: Automated Backup\n",
        "\n",
        "Create a script that:\n",
        "- Takes a directory path as input from the user.\n",
        "- Compresses the directory into a .tar.gz file.\n",
        "- Saves the compressed file with a name that includes the current date (e.g., backup_2023-08-20.tar.gz)."
      ],
      "metadata": {
        "id": "jGQ45DQlJ8Z8"
      }
    },
    {
      "cell_type": "code",
      "source": [
        "#!/bin/bash\n",
        "\n",
        "# Ask user for folder path\n",
        "echo \"Enter directory path:\"\n",
        "read dir\n",
        "\n",
        "# Check if folder exists\n",
        "if [ ! -d \"$dir\" ]; then\n",
        "  echo \"Directory does not exist!\"\n",
        "  exit 1\n",
        "fi\n",
        "\n",
        "# Get current date\n",
        "date=$(date +%F)\n",
        "\n",
        "# Set backup file name\n",
        "backup=\"backup_$date.tar.gz\"\n",
        "\n",
        "# Compress the folder\n",
        "tar -czf \"$backup\" \"$dir\"\n",
        "\n",
        "# Show result\n",
        "echo \"Backup created: $backup\""
      ],
      "metadata": {
        "id": "X0H9Wj0nOAY5"
      },
      "execution_count": null,
      "outputs": []
    },
    {
      "cell_type": "markdown",
      "source": [
        "Task 5: Simple To-Do List\n",
        "\n",
        "Create a Bash script that:\n",
        "- Implements a simple command-line to-do list.\n",
        "- Allows the user to add tasks, view tasks, and remove tasks.\n",
        "- Saves the tasks to a file (e.g., todo.txt)."
      ],
      "metadata": {
        "id": "RflOqAe-QZWL"
      }
    },
    {
      "cell_type": "code",
      "source": [
        "#!/bin/bash\n",
        "\n",
        "FILE=\"todo.txt\"     # File to store tasks\n",
        "touch $FILE         # Create file if not exists\n",
        "\n",
        "echo \"1. Add  2. View  3. Remove\"\n",
        "read -p \"Choose (1/2/3): \" opt\n",
        "\n",
        "if [ \"$opt\" == \"1\" ]; then\n",
        "  read -p \"Task: \" task\n",
        "  echo $task >> $FILE\n",
        "  echo \"Added!\"\n",
        "elif [ \"$opt\" == \"2\" ]; then\n",
        "  nl $FILE           # Show tasks with numbers\n",
        "elif [ \"$opt\" == \"3\" ]; then\n",
        "  nl $FILE\n",
        "  read -p \"Number: \" n\n",
        "  sed -i \"${n}d\" $FILE\n",
        "  echo \"Removed!\"\n",
        "else\n",
        "  echo \"Wrong option!\"\n",
        "fi\n"
      ],
      "metadata": {
        "id": "25-ew6pjQc4k"
      },
      "execution_count": null,
      "outputs": []
    },
    {
      "cell_type": "markdown",
      "source": [
        "Task 6: Automated Software Installation\n",
        "\n",
        "Write a script thatg\n",
        "- Reads a list of software package names from a file (e.g., packages.txt).\n",
        "- Installs each package using the appropriate package manager (apt, yum, etc.).\n",
        "- Logs the installation status of each package."
      ],
      "metadata": {
        "id": "iQaSJgPwQ--u"
      }
    },
    {
      "cell_type": "code",
      "source": [
        "#!/bin/bash\n",
        "\n",
        "# Read each line (package name) from packages.txt\n",
        "while read package; do\n",
        "    echo \"Installing $package...\"\n",
        "\n",
        "    # Try to install the package silently\n",
        "    if sudo apt install -y \"$package\" > /dev/null 2>&1; then\n",
        "        # If successful, log success\n",
        "        echo \"$package: SUCCESS\" >> install_log.txt\n",
        "    else\n",
        "        # If failed, log failure\n",
        "        echo \"$package: FAILED\" >> install_log.txt\n",
        "    fi\n",
        "done < packages.txt  # Input file with list of package names\n"
      ],
      "metadata": {
        "id": "JqGGnnkbQ_e_"
      },
      "execution_count": null,
      "outputs": []
    },
    {
      "cell_type": "markdown",
      "source": [
        "Task 7: Text File Processing\n",
        "\n",
        "Create a script that:\n",
        "- Takes a text file as input.\n",
        "- Counts and displays the number of lines, words, and characters in the file.\n",
        "- Finds and displays the longest word in the file"
      ],
      "metadata": {
        "id": "aEJxk97ORH9w"
      }
    },
    {
      "cell_type": "code",
      "source": [
        "#!/bin/bash\n",
        "\n",
        "# Ask for file name\n",
        "read -p \"Enter file name: \" file\n",
        "\n",
        "# Check if file exists\n",
        "[ ! -f \"$file\" ] && echo \"File not found!\" && exit 1\n",
        "\n",
        "# Show line, word, and character count\n",
        "echo \"Lines: $(wc -l < \"$file\")\"\n",
        "echo \"Words: $(wc -w < \"$file\")\"\n",
        "echo \"Characters: $(wc -m < \"$file\")\"\n",
        "\n",
        "# Find and show longest word\n",
        "longest=$(tr -s ' ' '\\n' < \"$file\" | awk '{ if (length > max) { max = length; word = $0 } } END { print word }')\n",
        "echo \"Longest word: $longest\"\n"
      ],
      "metadata": {
        "id": "NXkZM7yORIUB"
      },
      "execution_count": null,
      "outputs": []
    }
  ]
}