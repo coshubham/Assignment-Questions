{
  "nbformat": 4,
  "nbformat_minor": 0,
  "metadata": {
    "colab": {
      "provenance": []
    },
    "kernelspec": {
      "name": "python3",
      "display_name": "Python 3"
    },
    "language_info": {
      "name": "python"
    }
  },
  "cells": [
    {
      "cell_type": "markdown",
      "source": [
        "Q1.Kubernetes Setup: Set up a local Kubernetes cluster using Minikube or a\n",
        "managed Kubernetes service ? (e.g., GKE, EKS).\n",
        "\n",
        "**Ans:**  Kubernetes (K8s) is an open-source container orchestration platform that automates deployment, scaling, and management of containerized applications.\n",
        "\n",
        "#**Setup Options:**\n",
        "\n",
        "1. **Local (Recommended for Practice): Minikube**\n",
        "\n",
        "  * Minikube runs a single-node Kubernetes cluster on your machine.\n",
        "\n",
        "* Steps:"
      ],
      "metadata": {
        "id": "C9yAJKJ4sPBg"
      }
    },
    {
      "cell_type": "code",
      "execution_count": null,
      "metadata": {
        "id": "usASXqassNdi"
      },
      "outputs": [],
      "source": [
        "# Install Minikube (Linux)\n",
        "curl -LO https://storage.googleapis.com/minikube/releases/latest/minikube-linux-amd64\n",
        "sudo install minikube-linux-amd64 /usr/local/bin/minikube\n",
        "\n",
        "# Start cluster\n",
        "minikube start\n",
        "\n",
        "# Verify\n",
        "kubectl get nodes"
      ]
    },
    {
      "cell_type": "code",
      "source": [
        "# Output\n",
        "NAME       STATUS   ROLES           AGE   VERSION\n",
        "minikube   Ready    control-plane   1m    v1.29.0"
      ],
      "metadata": {
        "id": "X0A7DWLDs85z"
      },
      "execution_count": null,
      "outputs": []
    },
    {
      "cell_type": "markdown",
      "source": [
        "* **Managed Services (Cloud):**\n",
        "\n",
        "   * GKE (Google Kubernetes Engine) – Google Cloud\n",
        "\n",
        "   * EKS (Elastic Kubernetes Service) – AWS\n",
        "\n",
        "   * AKS (Azure Kubernetes Service) – Microsoft Azure\n",
        "(Cloud requires setup with accounts + billing, so Minikube is usually preferred for assignments.)"
      ],
      "metadata": {
        "id": "imAezV9StrX4"
      }
    },
    {
      "cell_type": "markdown",
      "source": [
        "Q2. Application Deployment: Deploy a simple application to your Kubernetes\n",
        "cluster?\n",
        "\n",
        "**Ans:** Deploy a simple Nginx or Hello World app. Example with Nginx:"
      ],
      "metadata": {
        "id": "8C-7abdRt8xq"
      }
    },
    {
      "cell_type": "code",
      "source": [
        "# Create Deployment YAML\n",
        "# nginx-deployment.yaml\n",
        "apiVersion: apps/v1\n",
        "kind: Deployment\n",
        "metadata:\n",
        "  name: nginx-deployment\n",
        "spec:\n",
        "  replicas: 2\n",
        "  selector:\n",
        "    matchLabels:\n",
        "      app: nginx\n",
        "  template:\n",
        "    metadata:\n",
        "      labels:\n",
        "        app: nginx\n",
        "    spec:\n",
        "      containers:\n",
        "      - name: nginx\n",
        "        image: nginx:latest\n",
        "        ports:\n",
        "        - containerPort: 80\n"
      ],
      "metadata": {
        "id": "q06FH03huqBo"
      },
      "execution_count": null,
      "outputs": []
    },
    {
      "cell_type": "code",
      "source": [
        "# Create Service YAML:\n",
        "\n",
        "# nginx-service.yaml\n",
        "apiVersion: v1\n",
        "kind: Service\n",
        "metadata:\n",
        "  name: nginx-service\n",
        "spec:\n",
        "  type: NodePort\n",
        "  selector:\n",
        "    app: nginx\n",
        "  ports:\n",
        "    - port: 80\n",
        "      targetPort: 80\n",
        "      nodePort: 30007"
      ],
      "metadata": {
        "id": "zVIQD-v2yDoD"
      },
      "execution_count": null,
      "outputs": []
    },
    {
      "cell_type": "code",
      "source": [
        "# Deploy:\n",
        "kubectl apply -f nginx-deployment.yaml\n",
        "kubectl apply -f nginx-service.yaml\n",
        "\n",
        "# Verify:\n",
        "kubectl get pods\n",
        "kubectl get svc\n",
        "\n",
        "# Access App:\n",
        "minikube service nginx-service"
      ],
      "metadata": {
        "id": "wyt7Po0UyI1T"
      },
      "execution_count": null,
      "outputs": []
    },
    {
      "cell_type": "markdown",
      "source": [
        "Q3.  Resource Management: Practice managing Kubernetes resources like\n",
        "Pods, Services, and Deployments?\n",
        "\n",
        "**Ans:**\n",
        "\n",
        " **Pods**\n",
        "\n",
        "   * Smallest unit in Kubernetes.\n",
        "\n",
        "   * Create Pod:"
      ],
      "metadata": {
        "id": "qH2EOvm5yr5G"
      }
    },
    {
      "cell_type": "code",
      "source": [
        "apiVersion: v1\n",
        "kind: Pod\n",
        "metadata:\n",
        "  name: mypod\n",
        "spec:\n",
        "  containers:\n",
        "  - name: mycontainer\n",
        "    image: nginx"
      ],
      "metadata": {
        "id": "kvaMz6yUy9qp"
      },
      "execution_count": null,
      "outputs": []
    },
    {
      "cell_type": "code",
      "source": [
        "kubectl apply -f pod.yaml"
      ],
      "metadata": {
        "id": "3g9yrX8KzAHq"
      },
      "execution_count": null,
      "outputs": []
    },
    {
      "cell_type": "markdown",
      "source": [
        "**Services**\n",
        "\n",
        "  * Expose Pods to internal/external traffic.\n",
        "\n",
        "  * Types: ClusterIP (default), NodePort, LoadBalancer.\n",
        "\n",
        "**Deployments**\n",
        "\n",
        "   * Manage Pods with ReplicaSets.\n",
        "\n",
        "   * Scale up/down easily."
      ],
      "metadata": {
        "id": "AmlvDSETzEUx"
      }
    },
    {
      "cell_type": "code",
      "source": [
        "kubectl scale deployment nginx-deployment --replicas=5"
      ],
      "metadata": {
        "id": "LTZSDIoczTjs"
      },
      "execution_count": null,
      "outputs": []
    },
    {
      "cell_type": "markdown",
      "source": [
        "**Updating Deployment**"
      ],
      "metadata": {
        "id": "poFL2zWlzWYL"
      }
    },
    {
      "cell_type": "code",
      "source": [
        "kubectl set image deployment/nginx-deployment nginx=nginx:1.21\n",
        "kubectl rollout status deployment/nginx-deployment"
      ],
      "metadata": {
        "id": "879jQLy2zYOD"
      },
      "execution_count": null,
      "outputs": []
    },
    {
      "cell_type": "markdown",
      "source": [
        "**Deleting Resources**"
      ],
      "metadata": {
        "id": "OKd-JBtjzcHt"
      }
    },
    {
      "cell_type": "code",
      "source": [
        "kubectl delete pod mypod\n",
        "kubectl delete svc nginx-service"
      ],
      "metadata": {
        "id": "2-V2OVoSzeBr"
      },
      "execution_count": null,
      "outputs": []
    },
    {
      "cell_type": "markdown",
      "source": [
        "Q4. Helm Charts: Use Helm to package and deploy applications on\n",
        "Kubernetes?\n",
        "\n",
        "**Ans:**\n",
        "Helm is a package manager for Kubernetes, like apt or yum.\n",
        "\n",
        "  * Packages are called Charts.\n",
        "\n",
        "  * Useful for deploying complex apps (databases, monitoring tools, web servers)."
      ],
      "metadata": {
        "id": "RheLhSSczlFW"
      }
    },
    {
      "cell_type": "code",
      "source": [
        "# Install Helm\n",
        "curl https://raw.githubusercontent.com/helm/helm/main/scripts/get-helm-3 | bash\n",
        "\n",
        "# Add Repository & Deploy App\\\n",
        "helm repo add bitnami https://charts.bitnami.com/bitnami\n",
        "helm repo update\n",
        "helm install my-nginx bitnami/nginx\n",
        "\n",
        "# Check & Uninstall\n",
        "helm list\n",
        "helm uninstall my-nginx"
      ],
      "metadata": {
        "id": "Tl95Uly6z0J2"
      },
      "execution_count": null,
      "outputs": []
    }
  ]
}