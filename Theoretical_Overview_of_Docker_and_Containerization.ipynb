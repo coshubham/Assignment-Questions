{
  "nbformat": 4,
  "nbformat_minor": 0,
  "metadata": {
    "colab": {
      "provenance": []
    },
    "kernelspec": {
      "name": "python3",
      "display_name": "Python 3"
    },
    "language_info": {
      "name": "python"
    }
  },
  "cells": [
    {
      "cell_type": "markdown",
      "source": [
        "**Q1. Theoretical Overview of Docker and Containerization.** <br>\n",
        "* **1. Install Docker and create Dockerfiles to containerize applications?**\n",
        "\n",
        "**Ans:** <br>\n",
        "**1. Docker:** Docker is a platform for containerization that allows you to package applications with their dependencies into lightweight, portable containers.\n",
        "\n",
        "* It solves the “works on my machine” problem by ensuring consistent environments across development, testing, and production.\n",
        "\n",
        "**2. Containerization:** Containerization is the process of packaging an application and all its required files (libraries, dependencies, runtime, etc.) into a container.\n",
        "\n",
        "* Unlike Virtual Machines (VMs), containers share the host operating system kernel, making them lightweight, fast, and efficient.\n",
        "\n",
        "# **3. Installing Docker On Linux (Ubuntu Example):**"
      ],
      "metadata": {
        "id": "Dbb8o2b_ZGYt"
      }
    },
    {
      "cell_type": "code",
      "execution_count": null,
      "metadata": {
        "id": "jgHS57tIY3H_"
      },
      "outputs": [],
      "source": [
        "# Update packages\n",
        "sudo apt update\n",
        "\n",
        "# Install Docker\n",
        "sudo apt install docker.io -y\n",
        "\n",
        "# Start and enable Docker\n",
        "sudo systemctl start docker\n",
        "sudo systemctl enable docker\n",
        "\n",
        "# Verify installation\n",
        "docker --version\n"
      ]
    },
    {
      "cell_type": "markdown",
      "source": [
        "** For Windows/Mac Users:**\n",
        "\n",
        "* Download Docker Desktop from https://www.docker.com.\n",
        "\n",
        "* Install and run Docker Desktop.\n",
        "\n",
        "* Verify with:"
      ],
      "metadata": {
        "id": "trfSKwFfalb8"
      }
    },
    {
      "cell_type": "code",
      "source": [
        "docker --version"
      ],
      "metadata": {
        "id": "IOEGUtv2anWe"
      },
      "execution_count": null,
      "outputs": []
    },
    {
      "cell_type": "markdown",
      "source": [
        "**4. Creating Dockerfiles to Containerize Applications**\n",
        "\n",
        "A Dockerfile is a text file with instructions to build a Docker image.\n",
        "\n",
        "**Example 1: Node.js ToDo App**"
      ],
      "metadata": {
        "id": "qcECV9-3arf9"
      }
    },
    {
      "cell_type": "code",
      "source": [
        "# Base image\n",
        "FROM node:20\n",
        "\n",
        "# Set working directory\n",
        "WORKDIR /app\n",
        "\n",
        "# Copy package.json and install dependencies\n",
        "COPY package*.json ./\n",
        "RUN npm install\n",
        "\n",
        "# Copy application code\n",
        "COPY . .\n",
        "\n",
        "# Expose app port\n",
        "EXPOSE 3000\n",
        "\n",
        "# Start the app\n",
        "CMD [\"node\", \"server.js\"]\n"
      ],
      "metadata": {
        "id": "9Rcmna1va-Nf"
      },
      "execution_count": null,
      "outputs": []
    },
    {
      "cell_type": "markdown",
      "source": [
        "**Build and Run:**"
      ],
      "metadata": {
        "id": "r40CtJNjbAzP"
      }
    },
    {
      "cell_type": "code",
      "source": [
        "docker build -t todo-app .\n",
        "docker run -p 3000:3000 todo-app"
      ],
      "metadata": {
        "id": "id7NQ7_ZbEb_"
      },
      "execution_count": null,
      "outputs": []
    }
  ]
}