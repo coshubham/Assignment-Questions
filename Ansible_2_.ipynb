{
  "nbformat": 4,
  "nbformat_minor": 0,
  "metadata": {
    "colab": {
      "provenance": []
    },
    "kernelspec": {
      "name": "python3",
      "display_name": "Python 3"
    },
    "language_info": {
      "name": "python"
    }
  },
  "cells": [
    {
      "cell_type": "markdown",
      "source": [
        "**Q1. Write Ansible playbooks to automate the setup and configuration of a web server (e.g., Apache or Nginx)?**\n",
        "\n",
        "**Ans: Step 1: Launch EC2 dynamically using Ansible**\n",
        "\n",
        "Ansible has the amazon.aws.ec2 module to create EC2 instances. You need:\n",
        "\n",
        "* AWS CLI configured (aws configure)\n",
        "\n",
        "* Ansible collections: amazon.aws installed (ansible-galaxy collection install amazon.aws)"
      ],
      "metadata": {
        "id": "b96Mx0VdHIO0"
      }
    },
    {
      "cell_type": "code",
      "execution_count": null,
      "metadata": {
        "id": "iWBl7JtQHBdO"
      },
      "outputs": [],
      "source": [
        "# Playbook: launch_ec2.yml\n",
        "\n",
        "- name: Launch EC2 Instance\n",
        "  hosts: localhost\n",
        "  gather_facts: false\n",
        "  tasks:\n",
        "    - name: Launch EC2 instance\n",
        "      amazon.aws.ec2:\n",
        "        key_name: my-keypair\n",
        "        instance_type: t2.micro\n",
        "        image_id: ami-0abcdef1234567890   # Use correct AMI ID for your region\n",
        "        wait: yes\n",
        "        region: us-east-1\n",
        "        count: 1\n",
        "        instance_tags:\n",
        "          Name: Ansible-WebServer\n",
        "      register: ec2\n",
        "\n",
        "    - name: Add new instance to host group\n",
        "      add_host:\n",
        "        hostname: \"{{ item.public_ip }}\"\n",
        "        groupname: launched\n",
        "      loop: \"{{ ec2.instances }}\"\n",
        "\n",
        "    - name: Wait for SSH to come up\n",
        "      wait_for:\n",
        "        host: \"{{ item.public_ip }}\"\n",
        "        port: 22\n",
        "        delay: 10\n",
        "        timeout: 300\n",
        "      loop: \"{{ ec2.instances }}\"\n"
      ]
    },
    {
      "cell_type": "markdown",
      "source": [
        "**Step 2: Configure Web Server on EC2\n",
        "Now you can create another playbook that runs on the newly launched instance.**\n",
        "\n"
      ],
      "metadata": {
        "id": "OAzETK4-Hu9D"
      }
    },
    {
      "cell_type": "code",
      "source": [
        "# Playbook: webserver_setup.yml\n",
        "\n",
        "- name: Setup Web Server\n",
        "  hosts: launched\n",
        "  become: yes\n",
        "  gather_facts: yes\n",
        "\n",
        "  tasks:\n",
        "    - name: Update apt cache\n",
        "      apt:\n",
        "        update_cache: yes\n",
        "\n",
        "    - name: Install Apache\n",
        "      apt:\n",
        "        name: apache2\n",
        "        state: present\n",
        "\n",
        "    - name: Ensure Apache service is running\n",
        "      service:\n",
        "        name: apache2\n",
        "        state: started\n",
        "        enabled: yes\n",
        "\n",
        "    - name: Deploy custom index.html\n",
        "      copy:\n",
        "        content: \"<h1>Hello from Ansible Managed EC2!</h1>\"\n",
        "        dest: /var/www/html/index.html\n"
      ],
      "metadata": {
        "id": "Zqd_HV3xH640"
      },
      "execution_count": null,
      "outputs": []
    },
    {
      "cell_type": "markdown",
      "source": [
        "**Step 3: Run Both Playbooks Together\n",
        "You can create a main.yml to run sequentially:**\n",
        "\n",
        "**main.yml**\n",
        "```\n",
        "---\n",
        "- import_playbook: launch_ec2.yml\n",
        "- import_playbook: webserver_setup.yml\n",
        "\n",
        "```\n",
        "\n",
        "**Now Run this command on your CLI to run all ansible-playbook is:**\n",
        "\n",
        "```\n",
        "ansible-playbook main.yml\n",
        "```\n"
      ],
      "metadata": {
        "id": "ir8wwqP5ID7E"
      }
    }
  ]
}