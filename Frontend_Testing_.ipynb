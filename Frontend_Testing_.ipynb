{
  "nbformat": 4,
  "nbformat_minor": 0,
  "metadata": {
    "colab": {
      "provenance": []
    },
    "kernelspec": {
      "name": "python3",
      "display_name": "Python 3"
    },
    "language_info": {
      "name": "python"
    }
  },
  "cells": [
    {
      "cell_type": "markdown",
      "source": [
        "Q1. Use tools like JMeter or Gatling to perform load testing on a web\n",
        "application and analyze the results to identify performance bottlenecks?\n",
        "\n",
        "**Ans:** To evaluate the performance of a web application, I used Apache JMeter to conduct load testing. This helped simulate multiple users accessing the application simultaneously and allowed me to analyze how the server behaves under heavy load.\n",
        "\n",
        "**Tool Used: Apache JMeter**\n",
        "* Purpose: Load testing and performance measurement.\n",
        "\n",
        "* Why JMeter: It supports HTTP, HTTPS, and APIs, has GUI + CLI options, and provides detailed reports.\n",
        "\n",
        "**Test Scenario:**\n",
        "* Web Application: Dummy REST API (https://reqres.in)\n",
        "\n",
        "* Endpoint Tested: https://reqres.in/api/users?page=2\n",
        "\n",
        "* Load Test Configuration:\n",
        "\n",
        " * Users (Threads): 50\n",
        " * Ramp-up Time: 10 seconds\n",
        " * Loop Count: 1\n",
        "\n",
        "**Steps Performed in JMeter:**\n",
        "1. Open JMeter GUI\n",
        "2. Create a Test Plan\n",
        "* Add Thread Group\n",
        " * Users: 50\n",
        " * Ramp-up: 10s\n",
        " * Loop: 1\n",
        "\n",
        "* Add HTTP Request Sampler\n",
        "\n",
        " * Method: GET\n",
        "\n",
        " * Server: reqres.in\n",
        "\n",
        " * ath: /api/users?page=2\n",
        "\n",
        "* Add Listener\n",
        "\n",
        " * View Results in Table\n",
        "\n",
        " * Summary Report\n",
        "\n",
        "Run the Test"
      ],
      "metadata": {
        "id": "F6SuiSqSFn3m"
      }
    },
    {
      "cell_type": "code",
      "source": [
        "#  Gatling (Scala Code Example) – Script-Based Load Test\n",
        "\n",
        "import io.gatling.core.Predef._\n",
        "import io.gatling.http.Predef._\n",
        "import scala.concurrent.duration._\n",
        "\n",
        "class LoadTestSimulation extends Simulation {\n",
        "\n",
        "  val httpProtocol = http\n",
        "    .baseUrl(\"https://reqres.in\") // Base URL\n",
        "    .acceptHeader(\"application/json\")\n",
        "\n",
        "  val scn = scenario(\"Load Test Users API\")\n",
        "    .repeat(1) {\n",
        "      exec(http(\"GET Users\")\n",
        "        .get(\"/api/users?page=2\")\n",
        "        .check(status.is(200)))\n",
        "    }\n",
        "\n",
        "  setUp(\n",
        "    scn.inject(\n",
        "      rampUsers(50) during (10.seconds) // 50 users over 10 seconds\n",
        "    )\n",
        "  ).protocols(httpProtocol)\n",
        "}"
      ],
      "metadata": {
        "id": "A2yzf-1AIWC4"
      },
      "execution_count": null,
      "outputs": []
    },
    {
      "cell_type": "code",
      "source": [
        "# Locust (Python Code Example) – Very Developer-Friendly\n",
        "\n",
        "from locust import HttpUser, task, between\n",
        "\n",
        "class WebsiteUser(HttpUser):\n",
        "    wait_time = between(1, 3)\n",
        "\n",
        "    @task\n",
        "    def get_users(self):\n",
        "        self.client.get(\"/api/users?page=2\")"
      ],
      "metadata": {
        "id": "kZ4zxe3eIc5B"
      },
      "execution_count": null,
      "outputs": []
    },
    {
      "cell_type": "markdown",
      "source": [
        "To Run the code:\n",
        "\n",
        "\n",
        "```\n",
        "locust -f load_test.py --host=https://reqres.in\n",
        "```\n",
        "Then open http://localhost:8089 in your browser to simulate users and see live charts."
      ],
      "metadata": {
        "id": "X4hz6jr4H_C8"
      }
    }
  ]
}