{
  "nbformat": 4,
  "nbformat_minor": 0,
  "metadata": {
    "colab": {
      "provenance": []
    },
    "kernelspec": {
      "name": "python3",
      "display_name": "Python 3"
    },
    "language_info": {
      "name": "python"
    }
  },
  "cells": [
    {
      "cell_type": "markdown",
      "source": [
        "# **Q1. Use Docker Compose to define and run multi-container applications?**\n",
        "\n",
        "**ANS:**\n",
        "* Docker Compose is a tool for defining and running multi-container Docker applications.\n",
        "\n",
        "* You use a docker-compose.yml file to configure your app’s services (like frontend, backend, database).\n",
        "\n",
        "* Then, a single command docker-compose up starts everything together.\n",
        "\n",
        "* # **Example: Flask App + MySQL Database**\n",
        "\n",
        "* **Step 1: Create a simple Flask app (app.py)**"
      ],
      "metadata": {
        "id": "cWDyyO6rDX_s"
      }
    },
    {
      "cell_type": "code",
      "source": [
        "from flask import Flask\n",
        "import mysql.connector\n",
        "\n",
        "app = Flask(__name__)\n",
        "\n",
        "@app.route('/')\n",
        "def hello():\n",
        "    return \"Hello from Flask with MySQL!\"\n",
        "\n",
        "if __name__ == '__main__':\n",
        "    app.run(host='0.0.0.0', port=5000)\n"
      ],
      "metadata": {
        "id": "pGMK1LfiE_nA"
      },
      "execution_count": null,
      "outputs": []
    },
    {
      "cell_type": "markdown",
      "source": [
        "* **Step 2: Dockerfile for Flask**"
      ],
      "metadata": {
        "id": "vTs2-FpaEBLa"
      }
    },
    {
      "cell_type": "code",
      "source": [
        "# Use official Python image\n",
        "FROM python:3.9-slim\n",
        "\n",
        "WORKDIR /app\n",
        "COPY app.py /app\n",
        "RUN pip install flask mysql-connector-python\n",
        "\n",
        "CMD [\"python\", \"app.py\"]"
      ],
      "metadata": {
        "id": "KaewKGjsFC5y"
      },
      "execution_count": null,
      "outputs": []
    },
    {
      "cell_type": "markdown",
      "source": [
        "* **Step 3: docker-compose.yml**"
      ],
      "metadata": {
        "id": "PDUJ9pTYEJuR"
      }
    },
    {
      "cell_type": "code",
      "source": [
        "version: '3'\n",
        "\n",
        "services:\n",
        "  web:\n",
        "    build: .\n",
        "    ports:\n",
        "      - \"5000:5000\"\n",
        "    depends_on:\n",
        "      - db\n",
        "\n",
        "  db:\n",
        "    image: mysql:5.7\n",
        "    restart: always\n",
        "    environment:\n",
        "      MYSQL_ROOT_PASSWORD: rootpassword\n",
        "      MYSQL_DATABASE: flaskdb\n",
        "      MYSQL_USER: flaskuser\n",
        "      MYSQL_PASSWORD: flaskpass\n",
        "    ports:\n",
        "      - \"3306:3306\""
      ],
      "metadata": {
        "id": "tRbwYcVeFK16"
      },
      "execution_count": null,
      "outputs": []
    },
    {
      "cell_type": "markdown",
      "source": [
        "**Run the multi-container app**"
      ],
      "metadata": {
        "id": "iAZnfGeMEPFN"
      }
    },
    {
      "cell_type": "code",
      "source": [
        "docker-compose up"
      ],
      "metadata": {
        "id": "mNVEF9MVFOK6"
      },
      "execution_count": null,
      "outputs": []
    }
  ]
}